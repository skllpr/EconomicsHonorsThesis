{
 "cells": [
  {
   "cell_type": "code",
   "execution_count": 14,
   "outputs": [],
   "source": [
    "# imports to perform linear regression\n",
    "import numpy as np\n",
    "import pandas as pd\n",
    "import statsmodels.api as sm"
   ],
   "metadata": {
    "collapsed": false,
    "pycharm": {
     "name": "#%%\n"
    }
   }
  },
  {
   "cell_type": "markdown",
   "source": [
    "## Loading up data into variables from sheet"
   ],
   "metadata": {
    "collapsed": false,
    "pycharm": {
     "name": "#%% md\n"
    }
   }
  },
  {
   "cell_type": "code",
   "execution_count": 15,
   "outputs": [],
   "source": [
    "#load full dataset\n",
    "data = pd.read_csv('DataEconHonorsThesis.csv')\n",
    "#convert free reduced into percentile\n",
    "data['freeReduced'] = data['freeReduced']*100\n",
    "#getting specific proficiencies (Y values)\n",
    "science = data['Science Proficiency']\n",
    "math = data['Math Proficiency']\n",
    "overall = data['Overall Proficiency']\n",
    "# getting x values\n",
    "x = data.drop(['Science Proficiency','Math Proficiency','Overall Proficiency'], axis=1)\n",
    "x = x.dropna()"
   ],
   "metadata": {
    "collapsed": false,
    "pycharm": {
     "name": "#%%\n"
    }
   }
  },
  {
   "cell_type": "code",
   "execution_count": 16,
   "outputs": [],
   "source": [
    "# get list of features and add intercept to first item in list to use for summary output\n",
    "features = list(x.iloc[:, 0:].columns)\n",
    "features.insert(0,'intercept')\n",
    "x = x.values"
   ],
   "metadata": {
    "collapsed": false,
    "pycharm": {
     "name": "#%%\n"
    }
   }
  },
  {
   "cell_type": "markdown",
   "source": [
    "### Summary Statistics"
   ],
   "metadata": {
    "collapsed": false,
    "pycharm": {
     "name": "#%% md\n"
    }
   }
  },
  {
   "cell_type": "code",
   "execution_count": 17,
   "outputs": [
    {
     "data": {
      "text/plain": "       Overall Proficiency  Science Proficiency  Math Proficiency  \\\ncount           132.000000           132.000000        132.000000   \nmean             52.340909            24.787879         60.280303   \nstd              13.017537            10.794422         16.304972   \nmin              17.000000            10.000000         15.000000   \n25%              42.416667            16.000000         49.000000   \n50%              54.500000            24.000000         64.500000   \n75%              60.750000            31.000000         73.000000   \nmax              78.000000            55.000000         89.000000   \n\n       freeReduced  ASD Population   Distances    Facility  \\\ncount   132.000000      132.000000  132.000000  132.000000   \nmean     27.256541       61.666667   15.151515    0.333333   \nstd      17.360065       29.843527    8.786010    0.473200   \nmin       2.475248       18.000000    3.300000    0.000000   \n25%      10.218863       37.000000    8.100000    0.000000   \n50%      23.704871       62.000000   13.000000    0.000000   \n75%      41.903834       80.000000   18.900000    1.000000   \nmax      69.923664      111.000000   33.900000    1.000000   \n\n       Amherst Middle School  Boynton Middle School  Elm Street Middle School  \\\ncount             132.000000             132.000000                132.000000   \nmean                0.045455               0.045455                  0.045455   \nstd                 0.209092               0.209092                  0.209092   \nmin                 0.000000               0.000000                  0.000000   \n25%                 0.000000               0.000000                  0.000000   \n50%                 0.000000               0.000000                  0.000000   \n75%                 0.000000               0.000000                  0.000000   \nmax                 1.000000               1.000000                  1.000000   \n\n       ...  Merrimack Middle School  Middle School At Parkside  \\\ncount  ...               132.000000                 132.000000   \nmean   ...                 0.045455                   0.045455   \nstd    ...                 0.209092                   0.209092   \nmin    ...                 0.000000                   0.000000   \n25%    ...                 0.000000                   0.000000   \n50%    ...                 0.000000                   0.000000   \n75%    ...                 0.000000                   0.000000   \nmax    ...                 1.000000                   1.000000   \n\n       Milford Middle School  Mountain View Middle School  \\\ncount             132.000000                   132.000000   \nmean                0.045455                     0.045455   \nstd                 0.209092                     0.209092   \nmin                 0.000000                     0.000000   \n25%                 0.000000                     0.000000   \n50%                 0.000000                     0.000000   \n75%                 0.000000                     0.000000   \nmax                 1.000000                     1.000000   \n\n       Pelham Memorial School  Pennichuck Middle School  \\\ncount              132.000000                132.000000   \nmean                 0.045455                  0.045455   \nstd                  0.209092                  0.209092   \nmin                  0.000000                  0.000000   \n25%                  0.000000                  0.000000   \n50%                  0.000000                  0.000000   \n75%                  0.000000                  0.000000   \nmax                  1.000000                  1.000000   \n\n       Ross A. Lurgio Middle School  South Meadow School  \\\ncount                    132.000000           132.000000   \nmean                       0.045455             0.045455   \nstd                        0.209092             0.209092   \nmin                        0.000000             0.000000   \n25%                        0.000000             0.000000   \n50%                        0.000000             0.000000   \n75%                        0.000000             0.000000   \nmax                        1.000000             1.000000   \n\n       Southside Middle School  Weare Middle School  \ncount               132.000000           132.000000  \nmean                  0.045455             0.045455  \nstd                   0.209092             0.209092  \nmin                   0.000000             0.000000  \n25%                   0.000000             0.000000  \n50%                   0.000000             0.000000  \n75%                   0.000000             0.000000  \nmax                   1.000000             1.000000  \n\n[8 rows x 28 columns]",
      "text/html": "<div>\n<style scoped>\n    .dataframe tbody tr th:only-of-type {\n        vertical-align: middle;\n    }\n\n    .dataframe tbody tr th {\n        vertical-align: top;\n    }\n\n    .dataframe thead th {\n        text-align: right;\n    }\n</style>\n<table border=\"1\" class=\"dataframe\">\n  <thead>\n    <tr style=\"text-align: right;\">\n      <th></th>\n      <th>Overall Proficiency</th>\n      <th>Science Proficiency</th>\n      <th>Math Proficiency</th>\n      <th>freeReduced</th>\n      <th>ASD Population</th>\n      <th>Distances</th>\n      <th>Facility</th>\n      <th>Amherst Middle School</th>\n      <th>Boynton Middle School</th>\n      <th>Elm Street Middle School</th>\n      <th>...</th>\n      <th>Merrimack Middle School</th>\n      <th>Middle School At Parkside</th>\n      <th>Milford Middle School</th>\n      <th>Mountain View Middle School</th>\n      <th>Pelham Memorial School</th>\n      <th>Pennichuck Middle School</th>\n      <th>Ross A. Lurgio Middle School</th>\n      <th>South Meadow School</th>\n      <th>Southside Middle School</th>\n      <th>Weare Middle School</th>\n    </tr>\n  </thead>\n  <tbody>\n    <tr>\n      <th>count</th>\n      <td>132.000000</td>\n      <td>132.000000</td>\n      <td>132.000000</td>\n      <td>132.000000</td>\n      <td>132.000000</td>\n      <td>132.000000</td>\n      <td>132.000000</td>\n      <td>132.000000</td>\n      <td>132.000000</td>\n      <td>132.000000</td>\n      <td>...</td>\n      <td>132.000000</td>\n      <td>132.000000</td>\n      <td>132.000000</td>\n      <td>132.000000</td>\n      <td>132.000000</td>\n      <td>132.000000</td>\n      <td>132.000000</td>\n      <td>132.000000</td>\n      <td>132.000000</td>\n      <td>132.000000</td>\n    </tr>\n    <tr>\n      <th>mean</th>\n      <td>52.340909</td>\n      <td>24.787879</td>\n      <td>60.280303</td>\n      <td>27.256541</td>\n      <td>61.666667</td>\n      <td>15.151515</td>\n      <td>0.333333</td>\n      <td>0.045455</td>\n      <td>0.045455</td>\n      <td>0.045455</td>\n      <td>...</td>\n      <td>0.045455</td>\n      <td>0.045455</td>\n      <td>0.045455</td>\n      <td>0.045455</td>\n      <td>0.045455</td>\n      <td>0.045455</td>\n      <td>0.045455</td>\n      <td>0.045455</td>\n      <td>0.045455</td>\n      <td>0.045455</td>\n    </tr>\n    <tr>\n      <th>std</th>\n      <td>13.017537</td>\n      <td>10.794422</td>\n      <td>16.304972</td>\n      <td>17.360065</td>\n      <td>29.843527</td>\n      <td>8.786010</td>\n      <td>0.473200</td>\n      <td>0.209092</td>\n      <td>0.209092</td>\n      <td>0.209092</td>\n      <td>...</td>\n      <td>0.209092</td>\n      <td>0.209092</td>\n      <td>0.209092</td>\n      <td>0.209092</td>\n      <td>0.209092</td>\n      <td>0.209092</td>\n      <td>0.209092</td>\n      <td>0.209092</td>\n      <td>0.209092</td>\n      <td>0.209092</td>\n    </tr>\n    <tr>\n      <th>min</th>\n      <td>17.000000</td>\n      <td>10.000000</td>\n      <td>15.000000</td>\n      <td>2.475248</td>\n      <td>18.000000</td>\n      <td>3.300000</td>\n      <td>0.000000</td>\n      <td>0.000000</td>\n      <td>0.000000</td>\n      <td>0.000000</td>\n      <td>...</td>\n      <td>0.000000</td>\n      <td>0.000000</td>\n      <td>0.000000</td>\n      <td>0.000000</td>\n      <td>0.000000</td>\n      <td>0.000000</td>\n      <td>0.000000</td>\n      <td>0.000000</td>\n      <td>0.000000</td>\n      <td>0.000000</td>\n    </tr>\n    <tr>\n      <th>25%</th>\n      <td>42.416667</td>\n      <td>16.000000</td>\n      <td>49.000000</td>\n      <td>10.218863</td>\n      <td>37.000000</td>\n      <td>8.100000</td>\n      <td>0.000000</td>\n      <td>0.000000</td>\n      <td>0.000000</td>\n      <td>0.000000</td>\n      <td>...</td>\n      <td>0.000000</td>\n      <td>0.000000</td>\n      <td>0.000000</td>\n      <td>0.000000</td>\n      <td>0.000000</td>\n      <td>0.000000</td>\n      <td>0.000000</td>\n      <td>0.000000</td>\n      <td>0.000000</td>\n      <td>0.000000</td>\n    </tr>\n    <tr>\n      <th>50%</th>\n      <td>54.500000</td>\n      <td>24.000000</td>\n      <td>64.500000</td>\n      <td>23.704871</td>\n      <td>62.000000</td>\n      <td>13.000000</td>\n      <td>0.000000</td>\n      <td>0.000000</td>\n      <td>0.000000</td>\n      <td>0.000000</td>\n      <td>...</td>\n      <td>0.000000</td>\n      <td>0.000000</td>\n      <td>0.000000</td>\n      <td>0.000000</td>\n      <td>0.000000</td>\n      <td>0.000000</td>\n      <td>0.000000</td>\n      <td>0.000000</td>\n      <td>0.000000</td>\n      <td>0.000000</td>\n    </tr>\n    <tr>\n      <th>75%</th>\n      <td>60.750000</td>\n      <td>31.000000</td>\n      <td>73.000000</td>\n      <td>41.903834</td>\n      <td>80.000000</td>\n      <td>18.900000</td>\n      <td>1.000000</td>\n      <td>0.000000</td>\n      <td>0.000000</td>\n      <td>0.000000</td>\n      <td>...</td>\n      <td>0.000000</td>\n      <td>0.000000</td>\n      <td>0.000000</td>\n      <td>0.000000</td>\n      <td>0.000000</td>\n      <td>0.000000</td>\n      <td>0.000000</td>\n      <td>0.000000</td>\n      <td>0.000000</td>\n      <td>0.000000</td>\n    </tr>\n    <tr>\n      <th>max</th>\n      <td>78.000000</td>\n      <td>55.000000</td>\n      <td>89.000000</td>\n      <td>69.923664</td>\n      <td>111.000000</td>\n      <td>33.900000</td>\n      <td>1.000000</td>\n      <td>1.000000</td>\n      <td>1.000000</td>\n      <td>1.000000</td>\n      <td>...</td>\n      <td>1.000000</td>\n      <td>1.000000</td>\n      <td>1.000000</td>\n      <td>1.000000</td>\n      <td>1.000000</td>\n      <td>1.000000</td>\n      <td>1.000000</td>\n      <td>1.000000</td>\n      <td>1.000000</td>\n      <td>1.000000</td>\n    </tr>\n  </tbody>\n</table>\n<p>8 rows × 28 columns</p>\n</div>"
     },
     "execution_count": 17,
     "metadata": {},
     "output_type": "execute_result"
    }
   ],
   "source": [
    "# Gets all data except mode\n",
    "data.describe()"
   ],
   "metadata": {
    "collapsed": false,
    "pycharm": {
     "name": "#%%\n"
    }
   }
  },
  {
   "cell_type": "code",
   "execution_count": 18,
   "outputs": [
    {
     "data": {
      "text/plain": "   Overall Proficiency  Science Proficiency  Math Proficiency  freeReduced  \\\n0            58.333333                 10.0              74.0    24.590164   \n1                  NaN                  NaN               NaN    44.155844   \n2                  NaN                  NaN               NaN          NaN   \n3                  NaN                  NaN               NaN          NaN   \n4                  NaN                  NaN               NaN          NaN   \n5                  NaN                  NaN               NaN          NaN   \n\n   ASD Population  Distances  Facility  Amherst Middle School  \\\n0              18       12.6       0.0                    0.0   \n1              37        NaN       NaN                    NaN   \n2              59        NaN       NaN                    NaN   \n3              65        NaN       NaN                    NaN   \n4              80        NaN       NaN                    NaN   \n5             111        NaN       NaN                    NaN   \n\n   Boynton Middle School  Elm Street Middle School  ...  \\\n0                    0.0                       0.0  ...   \n1                    NaN                       NaN  ...   \n2                    NaN                       NaN  ...   \n3                    NaN                       NaN  ...   \n4                    NaN                       NaN  ...   \n5                    NaN                       NaN  ...   \n\n   Merrimack Middle School  Middle School At Parkside  Milford Middle School  \\\n0                      0.0                        0.0                    0.0   \n1                      NaN                        NaN                    NaN   \n2                      NaN                        NaN                    NaN   \n3                      NaN                        NaN                    NaN   \n4                      NaN                        NaN                    NaN   \n5                      NaN                        NaN                    NaN   \n\n   Mountain View Middle School  Pelham Memorial School  \\\n0                          0.0                     0.0   \n1                          NaN                     NaN   \n2                          NaN                     NaN   \n3                          NaN                     NaN   \n4                          NaN                     NaN   \n5                          NaN                     NaN   \n\n   Pennichuck Middle School  Ross A. Lurgio Middle School  \\\n0                       0.0                           0.0   \n1                       NaN                           NaN   \n2                       NaN                           NaN   \n3                       NaN                           NaN   \n4                       NaN                           NaN   \n5                       NaN                           NaN   \n\n   South Meadow School  Southside Middle School  Weare Middle School  \n0                  0.0                      0.0                  0.0  \n1                  NaN                      NaN                  NaN  \n2                  NaN                      NaN                  NaN  \n3                  NaN                      NaN                  NaN  \n4                  NaN                      NaN                  NaN  \n5                  NaN                      NaN                  NaN  \n\n[6 rows x 28 columns]",
      "text/html": "<div>\n<style scoped>\n    .dataframe tbody tr th:only-of-type {\n        vertical-align: middle;\n    }\n\n    .dataframe tbody tr th {\n        vertical-align: top;\n    }\n\n    .dataframe thead th {\n        text-align: right;\n    }\n</style>\n<table border=\"1\" class=\"dataframe\">\n  <thead>\n    <tr style=\"text-align: right;\">\n      <th></th>\n      <th>Overall Proficiency</th>\n      <th>Science Proficiency</th>\n      <th>Math Proficiency</th>\n      <th>freeReduced</th>\n      <th>ASD Population</th>\n      <th>Distances</th>\n      <th>Facility</th>\n      <th>Amherst Middle School</th>\n      <th>Boynton Middle School</th>\n      <th>Elm Street Middle School</th>\n      <th>...</th>\n      <th>Merrimack Middle School</th>\n      <th>Middle School At Parkside</th>\n      <th>Milford Middle School</th>\n      <th>Mountain View Middle School</th>\n      <th>Pelham Memorial School</th>\n      <th>Pennichuck Middle School</th>\n      <th>Ross A. Lurgio Middle School</th>\n      <th>South Meadow School</th>\n      <th>Southside Middle School</th>\n      <th>Weare Middle School</th>\n    </tr>\n  </thead>\n  <tbody>\n    <tr>\n      <th>0</th>\n      <td>58.333333</td>\n      <td>10.0</td>\n      <td>74.0</td>\n      <td>24.590164</td>\n      <td>18</td>\n      <td>12.6</td>\n      <td>0.0</td>\n      <td>0.0</td>\n      <td>0.0</td>\n      <td>0.0</td>\n      <td>...</td>\n      <td>0.0</td>\n      <td>0.0</td>\n      <td>0.0</td>\n      <td>0.0</td>\n      <td>0.0</td>\n      <td>0.0</td>\n      <td>0.0</td>\n      <td>0.0</td>\n      <td>0.0</td>\n      <td>0.0</td>\n    </tr>\n    <tr>\n      <th>1</th>\n      <td>NaN</td>\n      <td>NaN</td>\n      <td>NaN</td>\n      <td>44.155844</td>\n      <td>37</td>\n      <td>NaN</td>\n      <td>NaN</td>\n      <td>NaN</td>\n      <td>NaN</td>\n      <td>NaN</td>\n      <td>...</td>\n      <td>NaN</td>\n      <td>NaN</td>\n      <td>NaN</td>\n      <td>NaN</td>\n      <td>NaN</td>\n      <td>NaN</td>\n      <td>NaN</td>\n      <td>NaN</td>\n      <td>NaN</td>\n      <td>NaN</td>\n    </tr>\n    <tr>\n      <th>2</th>\n      <td>NaN</td>\n      <td>NaN</td>\n      <td>NaN</td>\n      <td>NaN</td>\n      <td>59</td>\n      <td>NaN</td>\n      <td>NaN</td>\n      <td>NaN</td>\n      <td>NaN</td>\n      <td>NaN</td>\n      <td>...</td>\n      <td>NaN</td>\n      <td>NaN</td>\n      <td>NaN</td>\n      <td>NaN</td>\n      <td>NaN</td>\n      <td>NaN</td>\n      <td>NaN</td>\n      <td>NaN</td>\n      <td>NaN</td>\n      <td>NaN</td>\n    </tr>\n    <tr>\n      <th>3</th>\n      <td>NaN</td>\n      <td>NaN</td>\n      <td>NaN</td>\n      <td>NaN</td>\n      <td>65</td>\n      <td>NaN</td>\n      <td>NaN</td>\n      <td>NaN</td>\n      <td>NaN</td>\n      <td>NaN</td>\n      <td>...</td>\n      <td>NaN</td>\n      <td>NaN</td>\n      <td>NaN</td>\n      <td>NaN</td>\n      <td>NaN</td>\n      <td>NaN</td>\n      <td>NaN</td>\n      <td>NaN</td>\n      <td>NaN</td>\n      <td>NaN</td>\n    </tr>\n    <tr>\n      <th>4</th>\n      <td>NaN</td>\n      <td>NaN</td>\n      <td>NaN</td>\n      <td>NaN</td>\n      <td>80</td>\n      <td>NaN</td>\n      <td>NaN</td>\n      <td>NaN</td>\n      <td>NaN</td>\n      <td>NaN</td>\n      <td>...</td>\n      <td>NaN</td>\n      <td>NaN</td>\n      <td>NaN</td>\n      <td>NaN</td>\n      <td>NaN</td>\n      <td>NaN</td>\n      <td>NaN</td>\n      <td>NaN</td>\n      <td>NaN</td>\n      <td>NaN</td>\n    </tr>\n    <tr>\n      <th>5</th>\n      <td>NaN</td>\n      <td>NaN</td>\n      <td>NaN</td>\n      <td>NaN</td>\n      <td>111</td>\n      <td>NaN</td>\n      <td>NaN</td>\n      <td>NaN</td>\n      <td>NaN</td>\n      <td>NaN</td>\n      <td>...</td>\n      <td>NaN</td>\n      <td>NaN</td>\n      <td>NaN</td>\n      <td>NaN</td>\n      <td>NaN</td>\n      <td>NaN</td>\n      <td>NaN</td>\n      <td>NaN</td>\n      <td>NaN</td>\n      <td>NaN</td>\n    </tr>\n  </tbody>\n</table>\n<p>6 rows × 28 columns</p>\n</div>"
     },
     "execution_count": 18,
     "metadata": {},
     "output_type": "execute_result"
    }
   ],
   "source": [
    "data.mode(axis=0)"
   ],
   "metadata": {
    "collapsed": false,
    "pycharm": {
     "name": "#%%\n"
    }
   }
  },
  {
   "cell_type": "markdown",
   "source": [
    "### Correlation Matrix"
   ],
   "metadata": {
    "collapsed": false,
    "pycharm": {
     "name": "#%% md\n"
    }
   }
  },
  {
   "cell_type": "code",
   "execution_count": 19,
   "outputs": [
    {
     "data": {
      "text/plain": "                                   Overall Proficiency  Science Proficiency  \\\nOverall Proficiency                           1.000000             0.390826   \nScience Proficiency                           0.390826             1.000000   \nMath Proficiency                              0.386518             0.676640   \nfreeReduced                                  -0.604917            -0.135923   \nASD Population                               -0.230520            -0.001027   \nDistances                                    -0.180564             0.078311   \nFacility                                     -0.206127            -0.003985   \nAmherst Middle School                         0.299958             0.416925   \nBoynton Middle School                         0.024179             0.396632   \nElm Street Middle School                     -0.104830            -0.120834   \nFairgrounds Middle School                     0.026048             0.213997   \nGreat Brook School                           -0.001997            -0.019370   \nHenry J. McLaughlin Middle School            -0.231035            -0.242591   \nHillsboro-Deering Middle School              -0.222621             0.115915   \nHillside Middle School                       -0.245992            -0.005842   \nHollis Brookline Middle School                0.243867             0.156501   \nHudson Memorial School                        0.023244            -0.188477   \nLitchfield Middle School                      0.087748            -0.147892   \nMerrimack Middle School                       0.013895            -0.198624   \nMiddle School At Parkside                    -0.279647            -0.208770   \nMilford Middle School                         0.100836            -0.009224   \nMountain View Middle School                   0.055028             0.038126   \nPelham Memorial School                        0.048485             0.129444   \nPennichuck Middle School                     -0.008541            -0.097160   \nRoss A. Lurgio Middle School                  0.294349             0.061801   \nSouth Meadow School                           0.094292            -0.158038   \nSouthside Middle School                      -0.165595             0.034744   \nWeare Middle School                           0.080269             0.038126   \n\n                                   Math Proficiency  freeReduced  \\\nOverall Proficiency                        0.386518    -0.604917   \nScience Proficiency                        0.676640    -0.135923   \nMath Proficiency                           1.000000    -0.007176   \nfreeReduced                               -0.007176     1.000000   \nASD Population                            -0.346677     0.121200   \nDistances                                  0.298116     0.188062   \nFacility                                  -0.289229     0.080021   \nAmherst Middle School                      0.229099    -0.276890   \nBoynton Middle School                      0.302989     0.111059   \nElm Street Middle School                   0.049972     0.187805   \nFairgrounds Middle School                  0.103710     0.162865   \nGreat Brook School                         0.132818     0.057706   \nHenry J. McLaughlin Middle School         -0.229913     0.281105   \nHillsboro-Deering Middle School            0.262685     0.173422   \nHillside Middle School                     0.018625     0.203253   \nHollis Brookline Middle School             0.067885    -0.284463   \nHudson Memorial School                    -0.207522    -0.159908   \nLitchfield Middle School                  -0.229913    -0.235627   \nMerrimack Middle School                   -0.312759    -0.224794   \nMiddle School At Parkside                 -0.223196     0.410043   \nMilford Middle School                     -0.023917    -0.085773   \nMountain View Middle School                0.096993    -0.139965   \nPelham Memorial School                     0.101471    -0.218919   \nPennichuck Middle School                  -0.082134     0.206787   \nRoss A. Lurgio Middle School              -0.019439    -0.279191   \nSouth Meadow School                       -0.093329    -0.052463   \nSouthside Middle School                    0.074602     0.306504   \nWeare Middle School                        0.101471    -0.121822   \n\n                                   ASD Population  Distances      Facility  \\\nOverall Proficiency                 -2.305204e-01  -0.180564 -2.061266e-01   \nScience Proficiency                 -1.026836e-03   0.078311 -3.985226e-03   \nMath Proficiency                    -3.466766e-01   0.298116 -2.892291e-01   \nfreeReduced                          1.212004e-01   0.188062  8.002071e-02   \nASD Population                       1.000000e+00   0.008471  8.046944e-01   \nDistances                            8.470911e-03   1.000000  1.052687e-02   \nFacility                             8.046944e-01   0.010527  1.000000e+00   \nAmherst Middle School               -9.072500e-17  -0.243121 -3.881268e-17   \nBoynton Middle School               -6.790793e-17   0.246369 -3.613594e-17   \nElm Street Middle School            -7.660015e-17  -0.172481 -2.757039e-17   \nFairgrounds Middle School           -9.072500e-17  -0.202399 -6.450935e-17   \nGreat Brook School                  -8.203278e-17   0.401776 -5.594379e-17   \nHenry J. McLaughlin Middle School    9.778742e-18   0.000378  2.944410e-18   \nHillsboro-Deering Middle School      1.847096e-17   0.464105 -5.621147e-18   \nHillside Middle School               3.802844e-18   0.021985 -6.959515e-18   \nHollis Brookline Middle School       9.778742e-18  -0.113477 -5.621147e-18   \nHudson Memorial School              -3.531212e-17  -0.191595 -1.552507e-17   \nLitchfield Middle School            -2.444686e-17  -0.068600 -1.043927e-17   \nMerrimack Middle School              1.466811e-17  -0.247276 -1.043927e-17   \nMiddle School At Parkside           -2.879296e-17  -0.027047 -1.043927e-17   \nMilford Middle School               -1.249506e-17  -0.130929 -1.311601e-17   \nMountain View Middle School         -1.249506e-17   0.085145 -2.596434e-17   \nPelham Memorial School               3.802844e-18   0.006195 -1.766646e-17   \nPennichuck Middle School             2.499012e-17  -0.280518 -3.479757e-18   \nRoss A. Lurgio Middle School         5.975898e-18  -0.155860 -9.100904e-18   \nSouth Meadow School                  3.802844e-18   0.374352  3.747431e-18   \nSouthside Middle School              3.150928e-17  -0.027878  9.368578e-18   \nWeare Middle School                  3.748518e-17   0.253018  3.747431e-18   \n\n                                   Amherst Middle School  \\\nOverall Proficiency                         2.999583e-01   \nScience Proficiency                         4.169251e-01   \nMath Proficiency                            2.290990e-01   \nfreeReduced                                -2.768903e-01   \nASD Population                             -9.072500e-17   \nDistances                                  -2.431208e-01   \nFacility                                   -3.881268e-17   \nAmherst Middle School                       1.000000e+00   \nBoynton Middle School                      -4.761905e-02   \nElm Street Middle School                   -4.761905e-02   \nFairgrounds Middle School                  -4.761905e-02   \nGreat Brook School                         -4.761905e-02   \nHenry J. McLaughlin Middle School          -4.761905e-02   \nHillsboro-Deering Middle School            -4.761905e-02   \nHillside Middle School                     -4.761905e-02   \nHollis Brookline Middle School             -4.761905e-02   \nHudson Memorial School                     -4.761905e-02   \nLitchfield Middle School                   -4.761905e-02   \nMerrimack Middle School                    -4.761905e-02   \nMiddle School At Parkside                  -4.761905e-02   \nMilford Middle School                      -4.761905e-02   \nMountain View Middle School                -4.761905e-02   \nPelham Memorial School                     -4.761905e-02   \nPennichuck Middle School                   -4.761905e-02   \nRoss A. Lurgio Middle School               -4.761905e-02   \nSouth Meadow School                        -4.761905e-02   \nSouthside Middle School                    -4.761905e-02   \nWeare Middle School                        -4.761905e-02   \n\n                                   Boynton Middle School  \\\nOverall Proficiency                         2.417853e-02   \nScience Proficiency                         3.966323e-01   \nMath Proficiency                            3.029887e-01   \nfreeReduced                                 1.110586e-01   \nASD Population                             -6.790793e-17   \nDistances                                   2.463694e-01   \nFacility                                   -3.613594e-17   \nAmherst Middle School                      -4.761905e-02   \nBoynton Middle School                       1.000000e+00   \nElm Street Middle School                   -4.761905e-02   \nFairgrounds Middle School                  -4.761905e-02   \nGreat Brook School                         -4.761905e-02   \nHenry J. McLaughlin Middle School          -4.761905e-02   \nHillsboro-Deering Middle School            -4.761905e-02   \nHillside Middle School                     -4.761905e-02   \nHollis Brookline Middle School             -4.761905e-02   \nHudson Memorial School                     -4.761905e-02   \nLitchfield Middle School                   -4.761905e-02   \nMerrimack Middle School                    -4.761905e-02   \nMiddle School At Parkside                  -4.761905e-02   \nMilford Middle School                      -4.761905e-02   \nMountain View Middle School                -4.761905e-02   \nPelham Memorial School                     -4.761905e-02   \nPennichuck Middle School                   -4.761905e-02   \nRoss A. Lurgio Middle School               -4.761905e-02   \nSouth Meadow School                        -4.761905e-02   \nSouthside Middle School                    -4.761905e-02   \nWeare Middle School                        -4.761905e-02   \n\n                                   Elm Street Middle School  ...  \\\nOverall Proficiency                           -1.048303e-01  ...   \nScience Proficiency                           -1.208345e-01  ...   \nMath Proficiency                               4.997228e-02  ...   \nfreeReduced                                    1.878047e-01  ...   \nASD Population                                -7.660015e-17  ...   \nDistances                                     -1.724813e-01  ...   \nFacility                                      -2.757039e-17  ...   \nAmherst Middle School                         -4.761905e-02  ...   \nBoynton Middle School                         -4.761905e-02  ...   \nElm Street Middle School                       1.000000e+00  ...   \nFairgrounds Middle School                     -4.761905e-02  ...   \nGreat Brook School                            -4.761905e-02  ...   \nHenry J. McLaughlin Middle School             -4.761905e-02  ...   \nHillsboro-Deering Middle School               -4.761905e-02  ...   \nHillside Middle School                        -4.761905e-02  ...   \nHollis Brookline Middle School                -4.761905e-02  ...   \nHudson Memorial School                        -4.761905e-02  ...   \nLitchfield Middle School                      -4.761905e-02  ...   \nMerrimack Middle School                       -4.761905e-02  ...   \nMiddle School At Parkside                     -4.761905e-02  ...   \nMilford Middle School                         -4.761905e-02  ...   \nMountain View Middle School                   -4.761905e-02  ...   \nPelham Memorial School                        -4.761905e-02  ...   \nPennichuck Middle School                      -4.761905e-02  ...   \nRoss A. Lurgio Middle School                  -4.761905e-02  ...   \nSouth Meadow School                           -4.761905e-02  ...   \nSouthside Middle School                       -4.761905e-02  ...   \nWeare Middle School                           -4.761905e-02  ...   \n\n                                   Merrimack Middle School  \\\nOverall Proficiency                           1.389522e-02   \nScience Proficiency                          -1.986236e-01   \nMath Proficiency                             -3.127593e-01   \nfreeReduced                                  -2.247943e-01   \nASD Population                                1.466811e-17   \nDistances                                    -2.472761e-01   \nFacility                                     -1.043927e-17   \nAmherst Middle School                        -4.761905e-02   \nBoynton Middle School                        -4.761905e-02   \nElm Street Middle School                     -4.761905e-02   \nFairgrounds Middle School                    -4.761905e-02   \nGreat Brook School                           -4.761905e-02   \nHenry J. McLaughlin Middle School            -4.761905e-02   \nHillsboro-Deering Middle School              -4.761905e-02   \nHillside Middle School                       -4.761905e-02   \nHollis Brookline Middle School               -4.761905e-02   \nHudson Memorial School                       -4.761905e-02   \nLitchfield Middle School                     -4.761905e-02   \nMerrimack Middle School                       1.000000e+00   \nMiddle School At Parkside                    -4.761905e-02   \nMilford Middle School                        -4.761905e-02   \nMountain View Middle School                  -4.761905e-02   \nPelham Memorial School                       -4.761905e-02   \nPennichuck Middle School                     -4.761905e-02   \nRoss A. Lurgio Middle School                 -4.761905e-02   \nSouth Meadow School                          -4.761905e-02   \nSouthside Middle School                      -4.761905e-02   \nWeare Middle School                          -4.761905e-02   \n\n                                   Middle School At Parkside  \\\nOverall Proficiency                            -2.796466e-01   \nScience Proficiency                            -2.087700e-01   \nMath Proficiency                               -2.231959e-01   \nfreeReduced                                     4.100428e-01   \nASD Population                                 -2.879296e-17   \nDistances                                      -2.704700e-02   \nFacility                                       -1.043927e-17   \nAmherst Middle School                          -4.761905e-02   \nBoynton Middle School                          -4.761905e-02   \nElm Street Middle School                       -4.761905e-02   \nFairgrounds Middle School                      -4.761905e-02   \nGreat Brook School                             -4.761905e-02   \nHenry J. McLaughlin Middle School              -4.761905e-02   \nHillsboro-Deering Middle School                -4.761905e-02   \nHillside Middle School                         -4.761905e-02   \nHollis Brookline Middle School                 -4.761905e-02   \nHudson Memorial School                         -4.761905e-02   \nLitchfield Middle School                       -4.761905e-02   \nMerrimack Middle School                        -4.761905e-02   \nMiddle School At Parkside                       1.000000e+00   \nMilford Middle School                          -4.761905e-02   \nMountain View Middle School                    -4.761905e-02   \nPelham Memorial School                         -4.761905e-02   \nPennichuck Middle School                       -4.761905e-02   \nRoss A. Lurgio Middle School                   -4.761905e-02   \nSouth Meadow School                            -4.761905e-02   \nSouthside Middle School                        -4.761905e-02   \nWeare Middle School                            -4.761905e-02   \n\n                                   Milford Middle School  \\\nOverall Proficiency                         1.008360e-01   \nScience Proficiency                        -9.224006e-03   \nMath Proficiency                           -2.391749e-02   \nfreeReduced                                -8.577253e-02   \nASD Population                             -1.249506e-17   \nDistances                                  -1.309286e-01   \nFacility                                   -1.311601e-17   \nAmherst Middle School                      -4.761905e-02   \nBoynton Middle School                      -4.761905e-02   \nElm Street Middle School                   -4.761905e-02   \nFairgrounds Middle School                  -4.761905e-02   \nGreat Brook School                         -4.761905e-02   \nHenry J. McLaughlin Middle School          -4.761905e-02   \nHillsboro-Deering Middle School            -4.761905e-02   \nHillside Middle School                     -4.761905e-02   \nHollis Brookline Middle School             -4.761905e-02   \nHudson Memorial School                     -4.761905e-02   \nLitchfield Middle School                   -4.761905e-02   \nMerrimack Middle School                    -4.761905e-02   \nMiddle School At Parkside                  -4.761905e-02   \nMilford Middle School                       1.000000e+00   \nMountain View Middle School                -4.761905e-02   \nPelham Memorial School                     -4.761905e-02   \nPennichuck Middle School                   -4.761905e-02   \nRoss A. Lurgio Middle School               -4.761905e-02   \nSouth Meadow School                        -4.761905e-02   \nSouthside Middle School                    -4.761905e-02   \nWeare Middle School                        -4.761905e-02   \n\n                                   Mountain View Middle School  \\\nOverall Proficiency                               5.502847e-02   \nScience Proficiency                               3.812589e-02   \nMath Proficiency                                  9.699304e-02   \nfreeReduced                                      -1.399646e-01   \nASD Population                                   -1.249506e-17   \nDistances                                         8.514516e-02   \nFacility                                         -2.596434e-17   \nAmherst Middle School                            -4.761905e-02   \nBoynton Middle School                            -4.761905e-02   \nElm Street Middle School                         -4.761905e-02   \nFairgrounds Middle School                        -4.761905e-02   \nGreat Brook School                               -4.761905e-02   \nHenry J. McLaughlin Middle School                -4.761905e-02   \nHillsboro-Deering Middle School                  -4.761905e-02   \nHillside Middle School                           -4.761905e-02   \nHollis Brookline Middle School                   -4.761905e-02   \nHudson Memorial School                           -4.761905e-02   \nLitchfield Middle School                         -4.761905e-02   \nMerrimack Middle School                          -4.761905e-02   \nMiddle School At Parkside                        -4.761905e-02   \nMilford Middle School                            -4.761905e-02   \nMountain View Middle School                       1.000000e+00   \nPelham Memorial School                           -4.761905e-02   \nPennichuck Middle School                         -4.761905e-02   \nRoss A. Lurgio Middle School                     -4.761905e-02   \nSouth Meadow School                              -4.761905e-02   \nSouthside Middle School                          -4.761905e-02   \nWeare Middle School                              -4.761905e-02   \n\n                                   Pelham Memorial School  \\\nOverall Proficiency                          4.848454e-02   \nScience Proficiency                          1.294436e-01   \nMath Proficiency                             1.014712e-01   \nfreeReduced                                 -2.189192e-01   \nASD Population                               3.802844e-18   \nDistances                                    6.195123e-03   \nFacility                                    -1.766646e-17   \nAmherst Middle School                       -4.761905e-02   \nBoynton Middle School                       -4.761905e-02   \nElm Street Middle School                    -4.761905e-02   \nFairgrounds Middle School                   -4.761905e-02   \nGreat Brook School                          -4.761905e-02   \nHenry J. McLaughlin Middle School           -4.761905e-02   \nHillsboro-Deering Middle School             -4.761905e-02   \nHillside Middle School                      -4.761905e-02   \nHollis Brookline Middle School              -4.761905e-02   \nHudson Memorial School                      -4.761905e-02   \nLitchfield Middle School                    -4.761905e-02   \nMerrimack Middle School                     -4.761905e-02   \nMiddle School At Parkside                   -4.761905e-02   \nMilford Middle School                       -4.761905e-02   \nMountain View Middle School                 -4.761905e-02   \nPelham Memorial School                       1.000000e+00   \nPennichuck Middle School                    -4.761905e-02   \nRoss A. Lurgio Middle School                -4.761905e-02   \nSouth Meadow School                         -4.761905e-02   \nSouthside Middle School                     -4.761905e-02   \nWeare Middle School                         -4.761905e-02   \n\n                                   Pennichuck Middle School  \\\nOverall Proficiency                           -8.541099e-03   \nScience Proficiency                           -9.715953e-02   \nMath Proficiency                              -8.213367e-02   \nfreeReduced                                    2.067866e-01   \nASD Population                                 2.499012e-17   \nDistances                                     -2.805182e-01   \nFacility                                      -3.479757e-18   \nAmherst Middle School                         -4.761905e-02   \nBoynton Middle School                         -4.761905e-02   \nElm Street Middle School                      -4.761905e-02   \nFairgrounds Middle School                     -4.761905e-02   \nGreat Brook School                            -4.761905e-02   \nHenry J. McLaughlin Middle School             -4.761905e-02   \nHillsboro-Deering Middle School               -4.761905e-02   \nHillside Middle School                        -4.761905e-02   \nHollis Brookline Middle School                -4.761905e-02   \nHudson Memorial School                        -4.761905e-02   \nLitchfield Middle School                      -4.761905e-02   \nMerrimack Middle School                       -4.761905e-02   \nMiddle School At Parkside                     -4.761905e-02   \nMilford Middle School                         -4.761905e-02   \nMountain View Middle School                   -4.761905e-02   \nPelham Memorial School                        -4.761905e-02   \nPennichuck Middle School                       1.000000e+00   \nRoss A. Lurgio Middle School                  -4.761905e-02   \nSouth Meadow School                           -4.761905e-02   \nSouthside Middle School                       -4.761905e-02   \nWeare Middle School                           -4.761905e-02   \n\n                                   Ross A. Lurgio Middle School  \\\nOverall Proficiency                                2.943492e-01   \nScience Proficiency                                6.180084e-02   \nMath Proficiency                                  -1.943932e-02   \nfreeReduced                                       -2.791914e-01   \nASD Population                                     5.975898e-18   \nDistances                                         -1.558602e-01   \nFacility                                          -9.100904e-18   \nAmherst Middle School                             -4.761905e-02   \nBoynton Middle School                             -4.761905e-02   \nElm Street Middle School                          -4.761905e-02   \nFairgrounds Middle School                         -4.761905e-02   \nGreat Brook School                                -4.761905e-02   \nHenry J. McLaughlin Middle School                 -4.761905e-02   \nHillsboro-Deering Middle School                   -4.761905e-02   \nHillside Middle School                            -4.761905e-02   \nHollis Brookline Middle School                    -4.761905e-02   \nHudson Memorial School                            -4.761905e-02   \nLitchfield Middle School                          -4.761905e-02   \nMerrimack Middle School                           -4.761905e-02   \nMiddle School At Parkside                         -4.761905e-02   \nMilford Middle School                             -4.761905e-02   \nMountain View Middle School                       -4.761905e-02   \nPelham Memorial School                            -4.761905e-02   \nPennichuck Middle School                          -4.761905e-02   \nRoss A. Lurgio Middle School                       1.000000e+00   \nSouth Meadow School                               -4.761905e-02   \nSouthside Middle School                           -4.761905e-02   \nWeare Middle School                               -4.761905e-02   \n\n                                   South Meadow School  \\\nOverall Proficiency                       9.429203e-02   \nScience Proficiency                      -1.580380e-01   \nMath Proficiency                         -9.332908e-02   \nfreeReduced                              -5.246286e-02   \nASD Population                            3.802844e-18   \nDistances                                 3.743516e-01   \nFacility                                  3.747431e-18   \nAmherst Middle School                    -4.761905e-02   \nBoynton Middle School                    -4.761905e-02   \nElm Street Middle School                 -4.761905e-02   \nFairgrounds Middle School                -4.761905e-02   \nGreat Brook School                       -4.761905e-02   \nHenry J. McLaughlin Middle School        -4.761905e-02   \nHillsboro-Deering Middle School          -4.761905e-02   \nHillside Middle School                   -4.761905e-02   \nHollis Brookline Middle School           -4.761905e-02   \nHudson Memorial School                   -4.761905e-02   \nLitchfield Middle School                 -4.761905e-02   \nMerrimack Middle School                  -4.761905e-02   \nMiddle School At Parkside                -4.761905e-02   \nMilford Middle School                    -4.761905e-02   \nMountain View Middle School              -4.761905e-02   \nPelham Memorial School                   -4.761905e-02   \nPennichuck Middle School                 -4.761905e-02   \nRoss A. Lurgio Middle School             -4.761905e-02   \nSouth Meadow School                       1.000000e+00   \nSouthside Middle School                  -4.761905e-02   \nWeare Middle School                      -4.761905e-02   \n\n                                   Southside Middle School  \\\nOverall Proficiency                          -1.655953e-01   \nScience Proficiency                           3.474376e-02   \nMath Proficiency                              7.460220e-02   \nfreeReduced                                   3.065045e-01   \nASD Population                                3.150928e-17   \nDistances                                    -2.787805e-02   \nFacility                                      9.368578e-18   \nAmherst Middle School                        -4.761905e-02   \nBoynton Middle School                        -4.761905e-02   \nElm Street Middle School                     -4.761905e-02   \nFairgrounds Middle School                    -4.761905e-02   \nGreat Brook School                           -4.761905e-02   \nHenry J. McLaughlin Middle School            -4.761905e-02   \nHillsboro-Deering Middle School              -4.761905e-02   \nHillside Middle School                       -4.761905e-02   \nHollis Brookline Middle School               -4.761905e-02   \nHudson Memorial School                       -4.761905e-02   \nLitchfield Middle School                     -4.761905e-02   \nMerrimack Middle School                      -4.761905e-02   \nMiddle School At Parkside                    -4.761905e-02   \nMilford Middle School                        -4.761905e-02   \nMountain View Middle School                  -4.761905e-02   \nPelham Memorial School                       -4.761905e-02   \nPennichuck Middle School                     -4.761905e-02   \nRoss A. Lurgio Middle School                 -4.761905e-02   \nSouth Meadow School                          -4.761905e-02   \nSouthside Middle School                       1.000000e+00   \nWeare Middle School                          -4.761905e-02   \n\n                                   Weare Middle School  \nOverall Proficiency                       8.026933e-02  \nScience Proficiency                       3.812589e-02  \nMath Proficiency                          1.014712e-01  \nfreeReduced                              -1.218216e-01  \nASD Population                            3.748518e-17  \nDistances                                 2.530179e-01  \nFacility                                  3.747431e-18  \nAmherst Middle School                    -4.761905e-02  \nBoynton Middle School                    -4.761905e-02  \nElm Street Middle School                 -4.761905e-02  \nFairgrounds Middle School                -4.761905e-02  \nGreat Brook School                       -4.761905e-02  \nHenry J. McLaughlin Middle School        -4.761905e-02  \nHillsboro-Deering Middle School          -4.761905e-02  \nHillside Middle School                   -4.761905e-02  \nHollis Brookline Middle School           -4.761905e-02  \nHudson Memorial School                   -4.761905e-02  \nLitchfield Middle School                 -4.761905e-02  \nMerrimack Middle School                  -4.761905e-02  \nMiddle School At Parkside                -4.761905e-02  \nMilford Middle School                    -4.761905e-02  \nMountain View Middle School              -4.761905e-02  \nPelham Memorial School                   -4.761905e-02  \nPennichuck Middle School                 -4.761905e-02  \nRoss A. Lurgio Middle School             -4.761905e-02  \nSouth Meadow School                      -4.761905e-02  \nSouthside Middle School                  -4.761905e-02  \nWeare Middle School                       1.000000e+00  \n\n[28 rows x 28 columns]",
      "text/html": "<div>\n<style scoped>\n    .dataframe tbody tr th:only-of-type {\n        vertical-align: middle;\n    }\n\n    .dataframe tbody tr th {\n        vertical-align: top;\n    }\n\n    .dataframe thead th {\n        text-align: right;\n    }\n</style>\n<table border=\"1\" class=\"dataframe\">\n  <thead>\n    <tr style=\"text-align: right;\">\n      <th></th>\n      <th>Overall Proficiency</th>\n      <th>Science Proficiency</th>\n      <th>Math Proficiency</th>\n      <th>freeReduced</th>\n      <th>ASD Population</th>\n      <th>Distances</th>\n      <th>Facility</th>\n      <th>Amherst Middle School</th>\n      <th>Boynton Middle School</th>\n      <th>Elm Street Middle School</th>\n      <th>...</th>\n      <th>Merrimack Middle School</th>\n      <th>Middle School At Parkside</th>\n      <th>Milford Middle School</th>\n      <th>Mountain View Middle School</th>\n      <th>Pelham Memorial School</th>\n      <th>Pennichuck Middle School</th>\n      <th>Ross A. Lurgio Middle School</th>\n      <th>South Meadow School</th>\n      <th>Southside Middle School</th>\n      <th>Weare Middle School</th>\n    </tr>\n  </thead>\n  <tbody>\n    <tr>\n      <th>Overall Proficiency</th>\n      <td>1.000000</td>\n      <td>0.390826</td>\n      <td>0.386518</td>\n      <td>-0.604917</td>\n      <td>-2.305204e-01</td>\n      <td>-0.180564</td>\n      <td>-2.061266e-01</td>\n      <td>2.999583e-01</td>\n      <td>2.417853e-02</td>\n      <td>-1.048303e-01</td>\n      <td>...</td>\n      <td>1.389522e-02</td>\n      <td>-2.796466e-01</td>\n      <td>1.008360e-01</td>\n      <td>5.502847e-02</td>\n      <td>4.848454e-02</td>\n      <td>-8.541099e-03</td>\n      <td>2.943492e-01</td>\n      <td>9.429203e-02</td>\n      <td>-1.655953e-01</td>\n      <td>8.026933e-02</td>\n    </tr>\n    <tr>\n      <th>Science Proficiency</th>\n      <td>0.390826</td>\n      <td>1.000000</td>\n      <td>0.676640</td>\n      <td>-0.135923</td>\n      <td>-1.026836e-03</td>\n      <td>0.078311</td>\n      <td>-3.985226e-03</td>\n      <td>4.169251e-01</td>\n      <td>3.966323e-01</td>\n      <td>-1.208345e-01</td>\n      <td>...</td>\n      <td>-1.986236e-01</td>\n      <td>-2.087700e-01</td>\n      <td>-9.224006e-03</td>\n      <td>3.812589e-02</td>\n      <td>1.294436e-01</td>\n      <td>-9.715953e-02</td>\n      <td>6.180084e-02</td>\n      <td>-1.580380e-01</td>\n      <td>3.474376e-02</td>\n      <td>3.812589e-02</td>\n    </tr>\n    <tr>\n      <th>Math Proficiency</th>\n      <td>0.386518</td>\n      <td>0.676640</td>\n      <td>1.000000</td>\n      <td>-0.007176</td>\n      <td>-3.466766e-01</td>\n      <td>0.298116</td>\n      <td>-2.892291e-01</td>\n      <td>2.290990e-01</td>\n      <td>3.029887e-01</td>\n      <td>4.997228e-02</td>\n      <td>...</td>\n      <td>-3.127593e-01</td>\n      <td>-2.231959e-01</td>\n      <td>-2.391749e-02</td>\n      <td>9.699304e-02</td>\n      <td>1.014712e-01</td>\n      <td>-8.213367e-02</td>\n      <td>-1.943932e-02</td>\n      <td>-9.332908e-02</td>\n      <td>7.460220e-02</td>\n      <td>1.014712e-01</td>\n    </tr>\n    <tr>\n      <th>freeReduced</th>\n      <td>-0.604917</td>\n      <td>-0.135923</td>\n      <td>-0.007176</td>\n      <td>1.000000</td>\n      <td>1.212004e-01</td>\n      <td>0.188062</td>\n      <td>8.002071e-02</td>\n      <td>-2.768903e-01</td>\n      <td>1.110586e-01</td>\n      <td>1.878047e-01</td>\n      <td>...</td>\n      <td>-2.247943e-01</td>\n      <td>4.100428e-01</td>\n      <td>-8.577253e-02</td>\n      <td>-1.399646e-01</td>\n      <td>-2.189192e-01</td>\n      <td>2.067866e-01</td>\n      <td>-2.791914e-01</td>\n      <td>-5.246286e-02</td>\n      <td>3.065045e-01</td>\n      <td>-1.218216e-01</td>\n    </tr>\n    <tr>\n      <th>ASD Population</th>\n      <td>-0.230520</td>\n      <td>-0.001027</td>\n      <td>-0.346677</td>\n      <td>0.121200</td>\n      <td>1.000000e+00</td>\n      <td>0.008471</td>\n      <td>8.046944e-01</td>\n      <td>-9.072500e-17</td>\n      <td>-6.790793e-17</td>\n      <td>-7.660015e-17</td>\n      <td>...</td>\n      <td>1.466811e-17</td>\n      <td>-2.879296e-17</td>\n      <td>-1.249506e-17</td>\n      <td>-1.249506e-17</td>\n      <td>3.802844e-18</td>\n      <td>2.499012e-17</td>\n      <td>5.975898e-18</td>\n      <td>3.802844e-18</td>\n      <td>3.150928e-17</td>\n      <td>3.748518e-17</td>\n    </tr>\n    <tr>\n      <th>Distances</th>\n      <td>-0.180564</td>\n      <td>0.078311</td>\n      <td>0.298116</td>\n      <td>0.188062</td>\n      <td>8.470911e-03</td>\n      <td>1.000000</td>\n      <td>1.052687e-02</td>\n      <td>-2.431208e-01</td>\n      <td>2.463694e-01</td>\n      <td>-1.724813e-01</td>\n      <td>...</td>\n      <td>-2.472761e-01</td>\n      <td>-2.704700e-02</td>\n      <td>-1.309286e-01</td>\n      <td>8.514516e-02</td>\n      <td>6.195123e-03</td>\n      <td>-2.805182e-01</td>\n      <td>-1.558602e-01</td>\n      <td>3.743516e-01</td>\n      <td>-2.787805e-02</td>\n      <td>2.530179e-01</td>\n    </tr>\n    <tr>\n      <th>Facility</th>\n      <td>-0.206127</td>\n      <td>-0.003985</td>\n      <td>-0.289229</td>\n      <td>0.080021</td>\n      <td>8.046944e-01</td>\n      <td>0.010527</td>\n      <td>1.000000e+00</td>\n      <td>-3.881268e-17</td>\n      <td>-3.613594e-17</td>\n      <td>-2.757039e-17</td>\n      <td>...</td>\n      <td>-1.043927e-17</td>\n      <td>-1.043927e-17</td>\n      <td>-1.311601e-17</td>\n      <td>-2.596434e-17</td>\n      <td>-1.766646e-17</td>\n      <td>-3.479757e-18</td>\n      <td>-9.100904e-18</td>\n      <td>3.747431e-18</td>\n      <td>9.368578e-18</td>\n      <td>3.747431e-18</td>\n    </tr>\n    <tr>\n      <th>Amherst Middle School</th>\n      <td>0.299958</td>\n      <td>0.416925</td>\n      <td>0.229099</td>\n      <td>-0.276890</td>\n      <td>-9.072500e-17</td>\n      <td>-0.243121</td>\n      <td>-3.881268e-17</td>\n      <td>1.000000e+00</td>\n      <td>-4.761905e-02</td>\n      <td>-4.761905e-02</td>\n      <td>...</td>\n      <td>-4.761905e-02</td>\n      <td>-4.761905e-02</td>\n      <td>-4.761905e-02</td>\n      <td>-4.761905e-02</td>\n      <td>-4.761905e-02</td>\n      <td>-4.761905e-02</td>\n      <td>-4.761905e-02</td>\n      <td>-4.761905e-02</td>\n      <td>-4.761905e-02</td>\n      <td>-4.761905e-02</td>\n    </tr>\n    <tr>\n      <th>Boynton Middle School</th>\n      <td>0.024179</td>\n      <td>0.396632</td>\n      <td>0.302989</td>\n      <td>0.111059</td>\n      <td>-6.790793e-17</td>\n      <td>0.246369</td>\n      <td>-3.613594e-17</td>\n      <td>-4.761905e-02</td>\n      <td>1.000000e+00</td>\n      <td>-4.761905e-02</td>\n      <td>...</td>\n      <td>-4.761905e-02</td>\n      <td>-4.761905e-02</td>\n      <td>-4.761905e-02</td>\n      <td>-4.761905e-02</td>\n      <td>-4.761905e-02</td>\n      <td>-4.761905e-02</td>\n      <td>-4.761905e-02</td>\n      <td>-4.761905e-02</td>\n      <td>-4.761905e-02</td>\n      <td>-4.761905e-02</td>\n    </tr>\n    <tr>\n      <th>Elm Street Middle School</th>\n      <td>-0.104830</td>\n      <td>-0.120834</td>\n      <td>0.049972</td>\n      <td>0.187805</td>\n      <td>-7.660015e-17</td>\n      <td>-0.172481</td>\n      <td>-2.757039e-17</td>\n      <td>-4.761905e-02</td>\n      <td>-4.761905e-02</td>\n      <td>1.000000e+00</td>\n      <td>...</td>\n      <td>-4.761905e-02</td>\n      <td>-4.761905e-02</td>\n      <td>-4.761905e-02</td>\n      <td>-4.761905e-02</td>\n      <td>-4.761905e-02</td>\n      <td>-4.761905e-02</td>\n      <td>-4.761905e-02</td>\n      <td>-4.761905e-02</td>\n      <td>-4.761905e-02</td>\n      <td>-4.761905e-02</td>\n    </tr>\n    <tr>\n      <th>Fairgrounds Middle School</th>\n      <td>0.026048</td>\n      <td>0.213997</td>\n      <td>0.103710</td>\n      <td>0.162865</td>\n      <td>-9.072500e-17</td>\n      <td>-0.202399</td>\n      <td>-6.450935e-17</td>\n      <td>-4.761905e-02</td>\n      <td>-4.761905e-02</td>\n      <td>-4.761905e-02</td>\n      <td>...</td>\n      <td>-4.761905e-02</td>\n      <td>-4.761905e-02</td>\n      <td>-4.761905e-02</td>\n      <td>-4.761905e-02</td>\n      <td>-4.761905e-02</td>\n      <td>-4.761905e-02</td>\n      <td>-4.761905e-02</td>\n      <td>-4.761905e-02</td>\n      <td>-4.761905e-02</td>\n      <td>-4.761905e-02</td>\n    </tr>\n    <tr>\n      <th>Great Brook School</th>\n      <td>-0.001997</td>\n      <td>-0.019370</td>\n      <td>0.132818</td>\n      <td>0.057706</td>\n      <td>-8.203278e-17</td>\n      <td>0.401776</td>\n      <td>-5.594379e-17</td>\n      <td>-4.761905e-02</td>\n      <td>-4.761905e-02</td>\n      <td>-4.761905e-02</td>\n      <td>...</td>\n      <td>-4.761905e-02</td>\n      <td>-4.761905e-02</td>\n      <td>-4.761905e-02</td>\n      <td>-4.761905e-02</td>\n      <td>-4.761905e-02</td>\n      <td>-4.761905e-02</td>\n      <td>-4.761905e-02</td>\n      <td>-4.761905e-02</td>\n      <td>-4.761905e-02</td>\n      <td>-4.761905e-02</td>\n    </tr>\n    <tr>\n      <th>Henry J. McLaughlin Middle School</th>\n      <td>-0.231035</td>\n      <td>-0.242591</td>\n      <td>-0.229913</td>\n      <td>0.281105</td>\n      <td>9.778742e-18</td>\n      <td>0.000378</td>\n      <td>2.944410e-18</td>\n      <td>-4.761905e-02</td>\n      <td>-4.761905e-02</td>\n      <td>-4.761905e-02</td>\n      <td>...</td>\n      <td>-4.761905e-02</td>\n      <td>-4.761905e-02</td>\n      <td>-4.761905e-02</td>\n      <td>-4.761905e-02</td>\n      <td>-4.761905e-02</td>\n      <td>-4.761905e-02</td>\n      <td>-4.761905e-02</td>\n      <td>-4.761905e-02</td>\n      <td>-4.761905e-02</td>\n      <td>-4.761905e-02</td>\n    </tr>\n    <tr>\n      <th>Hillsboro-Deering Middle School</th>\n      <td>-0.222621</td>\n      <td>0.115915</td>\n      <td>0.262685</td>\n      <td>0.173422</td>\n      <td>1.847096e-17</td>\n      <td>0.464105</td>\n      <td>-5.621147e-18</td>\n      <td>-4.761905e-02</td>\n      <td>-4.761905e-02</td>\n      <td>-4.761905e-02</td>\n      <td>...</td>\n      <td>-4.761905e-02</td>\n      <td>-4.761905e-02</td>\n      <td>-4.761905e-02</td>\n      <td>-4.761905e-02</td>\n      <td>-4.761905e-02</td>\n      <td>-4.761905e-02</td>\n      <td>-4.761905e-02</td>\n      <td>-4.761905e-02</td>\n      <td>-4.761905e-02</td>\n      <td>-4.761905e-02</td>\n    </tr>\n    <tr>\n      <th>Hillside Middle School</th>\n      <td>-0.245992</td>\n      <td>-0.005842</td>\n      <td>0.018625</td>\n      <td>0.203253</td>\n      <td>3.802844e-18</td>\n      <td>0.021985</td>\n      <td>-6.959515e-18</td>\n      <td>-4.761905e-02</td>\n      <td>-4.761905e-02</td>\n      <td>-4.761905e-02</td>\n      <td>...</td>\n      <td>-4.761905e-02</td>\n      <td>-4.761905e-02</td>\n      <td>-4.761905e-02</td>\n      <td>-4.761905e-02</td>\n      <td>-4.761905e-02</td>\n      <td>-4.761905e-02</td>\n      <td>-4.761905e-02</td>\n      <td>-4.761905e-02</td>\n      <td>-4.761905e-02</td>\n      <td>-4.761905e-02</td>\n    </tr>\n    <tr>\n      <th>Hollis Brookline Middle School</th>\n      <td>0.243867</td>\n      <td>0.156501</td>\n      <td>0.067885</td>\n      <td>-0.284463</td>\n      <td>9.778742e-18</td>\n      <td>-0.113477</td>\n      <td>-5.621147e-18</td>\n      <td>-4.761905e-02</td>\n      <td>-4.761905e-02</td>\n      <td>-4.761905e-02</td>\n      <td>...</td>\n      <td>-4.761905e-02</td>\n      <td>-4.761905e-02</td>\n      <td>-4.761905e-02</td>\n      <td>-4.761905e-02</td>\n      <td>-4.761905e-02</td>\n      <td>-4.761905e-02</td>\n      <td>-4.761905e-02</td>\n      <td>-4.761905e-02</td>\n      <td>-4.761905e-02</td>\n      <td>-4.761905e-02</td>\n    </tr>\n    <tr>\n      <th>Hudson Memorial School</th>\n      <td>0.023244</td>\n      <td>-0.188477</td>\n      <td>-0.207522</td>\n      <td>-0.159908</td>\n      <td>-3.531212e-17</td>\n      <td>-0.191595</td>\n      <td>-1.552507e-17</td>\n      <td>-4.761905e-02</td>\n      <td>-4.761905e-02</td>\n      <td>-4.761905e-02</td>\n      <td>...</td>\n      <td>-4.761905e-02</td>\n      <td>-4.761905e-02</td>\n      <td>-4.761905e-02</td>\n      <td>-4.761905e-02</td>\n      <td>-4.761905e-02</td>\n      <td>-4.761905e-02</td>\n      <td>-4.761905e-02</td>\n      <td>-4.761905e-02</td>\n      <td>-4.761905e-02</td>\n      <td>-4.761905e-02</td>\n    </tr>\n    <tr>\n      <th>Litchfield Middle School</th>\n      <td>0.087748</td>\n      <td>-0.147892</td>\n      <td>-0.229913</td>\n      <td>-0.235627</td>\n      <td>-2.444686e-17</td>\n      <td>-0.068600</td>\n      <td>-1.043927e-17</td>\n      <td>-4.761905e-02</td>\n      <td>-4.761905e-02</td>\n      <td>-4.761905e-02</td>\n      <td>...</td>\n      <td>-4.761905e-02</td>\n      <td>-4.761905e-02</td>\n      <td>-4.761905e-02</td>\n      <td>-4.761905e-02</td>\n      <td>-4.761905e-02</td>\n      <td>-4.761905e-02</td>\n      <td>-4.761905e-02</td>\n      <td>-4.761905e-02</td>\n      <td>-4.761905e-02</td>\n      <td>-4.761905e-02</td>\n    </tr>\n    <tr>\n      <th>Merrimack Middle School</th>\n      <td>0.013895</td>\n      <td>-0.198624</td>\n      <td>-0.312759</td>\n      <td>-0.224794</td>\n      <td>1.466811e-17</td>\n      <td>-0.247276</td>\n      <td>-1.043927e-17</td>\n      <td>-4.761905e-02</td>\n      <td>-4.761905e-02</td>\n      <td>-4.761905e-02</td>\n      <td>...</td>\n      <td>1.000000e+00</td>\n      <td>-4.761905e-02</td>\n      <td>-4.761905e-02</td>\n      <td>-4.761905e-02</td>\n      <td>-4.761905e-02</td>\n      <td>-4.761905e-02</td>\n      <td>-4.761905e-02</td>\n      <td>-4.761905e-02</td>\n      <td>-4.761905e-02</td>\n      <td>-4.761905e-02</td>\n    </tr>\n    <tr>\n      <th>Middle School At Parkside</th>\n      <td>-0.279647</td>\n      <td>-0.208770</td>\n      <td>-0.223196</td>\n      <td>0.410043</td>\n      <td>-2.879296e-17</td>\n      <td>-0.027047</td>\n      <td>-1.043927e-17</td>\n      <td>-4.761905e-02</td>\n      <td>-4.761905e-02</td>\n      <td>-4.761905e-02</td>\n      <td>...</td>\n      <td>-4.761905e-02</td>\n      <td>1.000000e+00</td>\n      <td>-4.761905e-02</td>\n      <td>-4.761905e-02</td>\n      <td>-4.761905e-02</td>\n      <td>-4.761905e-02</td>\n      <td>-4.761905e-02</td>\n      <td>-4.761905e-02</td>\n      <td>-4.761905e-02</td>\n      <td>-4.761905e-02</td>\n    </tr>\n    <tr>\n      <th>Milford Middle School</th>\n      <td>0.100836</td>\n      <td>-0.009224</td>\n      <td>-0.023917</td>\n      <td>-0.085773</td>\n      <td>-1.249506e-17</td>\n      <td>-0.130929</td>\n      <td>-1.311601e-17</td>\n      <td>-4.761905e-02</td>\n      <td>-4.761905e-02</td>\n      <td>-4.761905e-02</td>\n      <td>...</td>\n      <td>-4.761905e-02</td>\n      <td>-4.761905e-02</td>\n      <td>1.000000e+00</td>\n      <td>-4.761905e-02</td>\n      <td>-4.761905e-02</td>\n      <td>-4.761905e-02</td>\n      <td>-4.761905e-02</td>\n      <td>-4.761905e-02</td>\n      <td>-4.761905e-02</td>\n      <td>-4.761905e-02</td>\n    </tr>\n    <tr>\n      <th>Mountain View Middle School</th>\n      <td>0.055028</td>\n      <td>0.038126</td>\n      <td>0.096993</td>\n      <td>-0.139965</td>\n      <td>-1.249506e-17</td>\n      <td>0.085145</td>\n      <td>-2.596434e-17</td>\n      <td>-4.761905e-02</td>\n      <td>-4.761905e-02</td>\n      <td>-4.761905e-02</td>\n      <td>...</td>\n      <td>-4.761905e-02</td>\n      <td>-4.761905e-02</td>\n      <td>-4.761905e-02</td>\n      <td>1.000000e+00</td>\n      <td>-4.761905e-02</td>\n      <td>-4.761905e-02</td>\n      <td>-4.761905e-02</td>\n      <td>-4.761905e-02</td>\n      <td>-4.761905e-02</td>\n      <td>-4.761905e-02</td>\n    </tr>\n    <tr>\n      <th>Pelham Memorial School</th>\n      <td>0.048485</td>\n      <td>0.129444</td>\n      <td>0.101471</td>\n      <td>-0.218919</td>\n      <td>3.802844e-18</td>\n      <td>0.006195</td>\n      <td>-1.766646e-17</td>\n      <td>-4.761905e-02</td>\n      <td>-4.761905e-02</td>\n      <td>-4.761905e-02</td>\n      <td>...</td>\n      <td>-4.761905e-02</td>\n      <td>-4.761905e-02</td>\n      <td>-4.761905e-02</td>\n      <td>-4.761905e-02</td>\n      <td>1.000000e+00</td>\n      <td>-4.761905e-02</td>\n      <td>-4.761905e-02</td>\n      <td>-4.761905e-02</td>\n      <td>-4.761905e-02</td>\n      <td>-4.761905e-02</td>\n    </tr>\n    <tr>\n      <th>Pennichuck Middle School</th>\n      <td>-0.008541</td>\n      <td>-0.097160</td>\n      <td>-0.082134</td>\n      <td>0.206787</td>\n      <td>2.499012e-17</td>\n      <td>-0.280518</td>\n      <td>-3.479757e-18</td>\n      <td>-4.761905e-02</td>\n      <td>-4.761905e-02</td>\n      <td>-4.761905e-02</td>\n      <td>...</td>\n      <td>-4.761905e-02</td>\n      <td>-4.761905e-02</td>\n      <td>-4.761905e-02</td>\n      <td>-4.761905e-02</td>\n      <td>-4.761905e-02</td>\n      <td>1.000000e+00</td>\n      <td>-4.761905e-02</td>\n      <td>-4.761905e-02</td>\n      <td>-4.761905e-02</td>\n      <td>-4.761905e-02</td>\n    </tr>\n    <tr>\n      <th>Ross A. Lurgio Middle School</th>\n      <td>0.294349</td>\n      <td>0.061801</td>\n      <td>-0.019439</td>\n      <td>-0.279191</td>\n      <td>5.975898e-18</td>\n      <td>-0.155860</td>\n      <td>-9.100904e-18</td>\n      <td>-4.761905e-02</td>\n      <td>-4.761905e-02</td>\n      <td>-4.761905e-02</td>\n      <td>...</td>\n      <td>-4.761905e-02</td>\n      <td>-4.761905e-02</td>\n      <td>-4.761905e-02</td>\n      <td>-4.761905e-02</td>\n      <td>-4.761905e-02</td>\n      <td>-4.761905e-02</td>\n      <td>1.000000e+00</td>\n      <td>-4.761905e-02</td>\n      <td>-4.761905e-02</td>\n      <td>-4.761905e-02</td>\n    </tr>\n    <tr>\n      <th>South Meadow School</th>\n      <td>0.094292</td>\n      <td>-0.158038</td>\n      <td>-0.093329</td>\n      <td>-0.052463</td>\n      <td>3.802844e-18</td>\n      <td>0.374352</td>\n      <td>3.747431e-18</td>\n      <td>-4.761905e-02</td>\n      <td>-4.761905e-02</td>\n      <td>-4.761905e-02</td>\n      <td>...</td>\n      <td>-4.761905e-02</td>\n      <td>-4.761905e-02</td>\n      <td>-4.761905e-02</td>\n      <td>-4.761905e-02</td>\n      <td>-4.761905e-02</td>\n      <td>-4.761905e-02</td>\n      <td>-4.761905e-02</td>\n      <td>1.000000e+00</td>\n      <td>-4.761905e-02</td>\n      <td>-4.761905e-02</td>\n    </tr>\n    <tr>\n      <th>Southside Middle School</th>\n      <td>-0.165595</td>\n      <td>0.034744</td>\n      <td>0.074602</td>\n      <td>0.306504</td>\n      <td>3.150928e-17</td>\n      <td>-0.027878</td>\n      <td>9.368578e-18</td>\n      <td>-4.761905e-02</td>\n      <td>-4.761905e-02</td>\n      <td>-4.761905e-02</td>\n      <td>...</td>\n      <td>-4.761905e-02</td>\n      <td>-4.761905e-02</td>\n      <td>-4.761905e-02</td>\n      <td>-4.761905e-02</td>\n      <td>-4.761905e-02</td>\n      <td>-4.761905e-02</td>\n      <td>-4.761905e-02</td>\n      <td>-4.761905e-02</td>\n      <td>1.000000e+00</td>\n      <td>-4.761905e-02</td>\n    </tr>\n    <tr>\n      <th>Weare Middle School</th>\n      <td>0.080269</td>\n      <td>0.038126</td>\n      <td>0.101471</td>\n      <td>-0.121822</td>\n      <td>3.748518e-17</td>\n      <td>0.253018</td>\n      <td>3.747431e-18</td>\n      <td>-4.761905e-02</td>\n      <td>-4.761905e-02</td>\n      <td>-4.761905e-02</td>\n      <td>...</td>\n      <td>-4.761905e-02</td>\n      <td>-4.761905e-02</td>\n      <td>-4.761905e-02</td>\n      <td>-4.761905e-02</td>\n      <td>-4.761905e-02</td>\n      <td>-4.761905e-02</td>\n      <td>-4.761905e-02</td>\n      <td>-4.761905e-02</td>\n      <td>-4.761905e-02</td>\n      <td>1.000000e+00</td>\n    </tr>\n  </tbody>\n</table>\n<p>28 rows × 28 columns</p>\n</div>"
     },
     "execution_count": 19,
     "metadata": {},
     "output_type": "execute_result"
    }
   ],
   "source": [
    "data.corr()"
   ],
   "metadata": {
    "collapsed": false,
    "pycharm": {
     "name": "#%%\n"
    }
   }
  },
  {
   "cell_type": "markdown",
   "source": [
    "#### Overall Regression"
   ],
   "metadata": {
    "collapsed": false,
    "pycharm": {
     "name": "#%% md\n"
    }
   }
  },
  {
   "cell_type": "code",
   "execution_count": 20,
   "outputs": [
    {
     "name": "stdout",
     "output_type": "stream",
     "text": [
      "                          Results: Ordinary least squares\n",
      "===================================================================================\n",
      "Model:                    OLS                     Adj. R-squared:         0.536    \n",
      "Dependent Variable:       Overall Proficiency     AIC:                    973.8893 \n",
      "Date:                     2023-04-05 16:24        BIC:                    1048.8422\n",
      "No. Observations:         132                     Log-Likelihood:         -460.94  \n",
      "Df Model:                 25                      F-statistic:            7.044    \n",
      "Df Residuals:             106                     Prob (F-statistic):     2.61e-13 \n",
      "R-squared:                0.624                   Scale:                  78.688   \n",
      "-----------------------------------------------------------------------------------\n",
      "                                   Coef.   Std.Err.    t    P>|t|   [0.025   0.975]\n",
      "-----------------------------------------------------------------------------------\n",
      "intercept                          41.4613   9.2397  4.4873 0.0000  23.1427 59.7799\n",
      "freeReduced                         0.6018   0.2447  2.4595 0.0155   0.1167  1.0868\n",
      "ASD Population                     -0.1364   0.0494 -2.7621 0.0068  -0.2344 -0.0385\n",
      "Distances                          -0.2461   0.5383 -0.4572 0.6485  -1.3133  0.8211\n",
      "Facility                           -0.4653   2.8017 -0.1661 0.8684  -6.0199  5.0894\n",
      "Amherst Middle School              35.4056   7.9773  4.4383 0.0000  19.5898 51.2213\n",
      "Boynton Middle School               5.3468   7.1518  0.7476 0.4563  -8.8323 19.5260\n",
      "Elm Street Middle School          -10.1144   8.2137 -1.2314 0.2209 -26.3988  6.1700\n",
      "Fairgrounds Middle School          -1.4426   8.3362 -0.1730 0.8629 -17.9699 15.0847\n",
      "Great Brook School                  7.8697   9.6375  0.8166 0.4160 -11.2376 26.9770\n",
      "Henry J. McLaughlin Middle School -20.3577   7.8163 -2.6045 0.0105 -35.8543 -4.8611\n",
      "Hillsboro-Deering Middle School   -10.1447  10.7017 -0.9480 0.3453 -31.3618 11.0723\n",
      "Hillside Middle School            -17.3205   6.6609 -2.6003 0.0106 -30.5264 -4.1145\n",
      "Hollis Brookline Middle School     33.7131   7.1392  4.7222 0.0000  19.5589 47.8673\n",
      "Hudson Memorial School             13.8907   6.6990  2.0735 0.0405   0.6092 27.1722\n",
      "Litchfield Middle School           22.5493   6.4860  3.4766 0.0007   9.6901 35.4085\n",
      "Merrimack Middle School            15.8801   7.6658  2.0715 0.0407   0.6819 31.0783\n",
      "Middle School At Parkside         -29.6664  10.0229 -2.9599 0.0038 -49.5378 -9.7951\n",
      "Milford Middle School              15.5651   5.8706  2.6514 0.0092   3.9261 27.2042\n",
      "Mountain View Middle School        17.5602   6.0615  2.8970 0.0046   5.5427 29.5777\n",
      "Pelham Memorial School             20.1574   6.3964  3.1514 0.0021   7.4760 32.8389\n",
      "Pennichuck Middle School           -6.3639  10.0708 -0.6319 0.5288 -26.3303 13.6025\n",
      "Ross A. Lurgio Middle School       36.0433   7.2731  4.9557 0.0000  21.6237 50.4629\n",
      "South Meadow School                18.5753   9.6033  1.9343 0.0557  -0.4642 37.6148\n",
      "Southside Middle School           -17.9590   8.3733 -2.1448 0.0343 -34.5599 -1.3582\n",
      "Weare Middle School                19.8521   8.0309  2.4720 0.0150   3.9300 35.7741\n",
      "-----------------------------------------------------------------------------------\n",
      "Omnibus:                    2.480              Durbin-Watson:                 1.616\n",
      "Prob(Omnibus):              0.289              Jarque-Bera (JB):              2.158\n",
      "Skew:                       0.133              Prob(JB):                      0.340\n",
      "Kurtosis:                   3.567              Condition No.:                 2233 \n",
      "===================================================================================\n",
      "* The condition number is large (2e+03). This might indicate             strong\n",
      "multicollinearity or other numerical problems.\n",
      "RSE: 8.870647613516503\n"
     ]
    }
   ],
   "source": [
    "X2 = sm.add_constant(x)\n",
    "est = sm.OLS(overall, X2)\n",
    "overall_fit = est.fit()\n",
    "print(overall_fit.summary2(xname=features))\n",
    "print(\"RSE:\",overall_fit.scale**.5)"
   ],
   "metadata": {
    "collapsed": false,
    "pycharm": {
     "name": "#%%\n"
    }
   }
  },
  {
   "cell_type": "markdown",
   "source": [
    "#### Science Regression"
   ],
   "metadata": {
    "collapsed": false,
    "pycharm": {
     "name": "#%% md\n"
    }
   }
  },
  {
   "cell_type": "code",
   "execution_count": 21,
   "outputs": [
    {
     "name": "stdout",
     "output_type": "stream",
     "text": [
      "                          Results: Ordinary least squares\n",
      "===================================================================================\n",
      "Model:                   OLS                      Adj. R-squared:          0.674   \n",
      "Dependent Variable:      Science Proficiency      AIC:                     877.8940\n",
      "Date:                    2023-04-05 16:24         BIC:                     952.8468\n",
      "No. Observations:        132                      Log-Likelihood:          -412.95 \n",
      "Df Model:                25                       F-statistic:             11.82   \n",
      "Df Residuals:            106                      Prob (F-statistic):      1.25e-20\n",
      "R-squared:               0.736                    Scale:                   38.026  \n",
      "-----------------------------------------------------------------------------------\n",
      "                                   Coef.   Std.Err.    t    P>|t|   [0.025   0.975]\n",
      "-----------------------------------------------------------------------------------\n",
      "intercept                           3.0192   6.4230  0.4701 0.6393  -9.7151 15.7535\n",
      "freeReduced                         0.6504   0.1701  3.8240 0.0002   0.3132  0.9876\n",
      "ASD Population                     -0.0587   0.0343 -1.7108 0.0900  -0.1268  0.0093\n",
      "Distances                          -0.1114   0.3742 -0.2978 0.7665  -0.8533  0.6304\n",
      "Facility                            1.0026   1.9476  0.5148 0.6078  -2.8588  4.8640\n",
      "Amherst Middle School              42.7488   5.5455  7.7088 0.0000  31.7543 53.7432\n",
      "Boynton Middle School              23.9393   4.9716  4.8152 0.0000  14.0825 33.7960\n",
      "Elm Street Middle School           -7.3886   5.7098 -1.2940 0.1985 -18.7088  3.9317\n",
      "Fairgrounds Middle School          10.2632   5.7949  1.7711 0.0794  -1.2258 21.7523\n",
      "Great Brook School                  6.8839   6.6996  1.0275 0.3065  -6.3987 20.1665\n",
      "Henry J. McLaughlin Middle School -17.4252   5.4336 -3.2070 0.0018 -28.1978 -6.6527\n",
      "Hillsboro-Deering Middle School     7.8645   7.4393  1.0572 0.2928  -6.8847 22.6137\n",
      "Hillside Middle School             -1.6491   4.6304 -0.3561 0.7224 -10.8293  7.5311\n",
      "Hollis Brookline Middle School     30.8852   4.9629  6.2232 0.0000  21.0458 40.7245\n",
      "Hudson Memorial School              7.1157   4.6569  1.5280 0.1295  -2.1170 16.3485\n",
      "Litchfield Middle School           13.5685   4.5088  3.0093 0.0033   4.6293 22.5076\n",
      "Merrimack Middle School             9.7115   5.3289  1.8224 0.0712  -0.8536 20.2766\n",
      "Middle School At Parkside         -22.5274   6.9675 -3.2332 0.0016 -36.3410 -8.7137\n",
      "Milford Middle School              12.3989   4.0810  3.0382 0.0030   4.3079 20.4898\n",
      "Mountain View Middle School        18.4912   4.2137  4.3884 0.0000  10.1372 26.8453\n",
      "Pelham Memorial School             26.7082   4.4465  6.0066 0.0000  17.8926 35.5237\n",
      "Pennichuck Middle School           -7.6832   7.0008 -1.0975 0.2749 -21.5630  6.1966\n",
      "Ross A. Lurgio Middle School       25.7574   5.0559  5.0945 0.0000  15.7335 35.7812\n",
      "South Meadow School                 5.6068   6.6758  0.8399 0.4029  -7.6286 18.8422\n",
      "Southside Middle School            -5.1941   5.8207 -0.8923 0.3742 -16.7343  6.3461\n",
      "Weare Middle School                18.3063   5.5827  3.2791 0.0014   7.2380 29.3746\n",
      "-----------------------------------------------------------------------------------\n",
      "Omnibus:                     6.229              Durbin-Watson:                1.609\n",
      "Prob(Omnibus):               0.044              Jarque-Bera (JB):             6.444\n",
      "Skew:                        -0.359             Prob(JB):                     0.040\n",
      "Kurtosis:                    3.810              Condition No.:                2233 \n",
      "===================================================================================\n",
      "* The condition number is large (2e+03). This might indicate             strong\n",
      "multicollinearity or other numerical problems.\n",
      "RSE: 6.1664860584272025\n"
     ]
    }
   ],
   "source": [
    "X2 = sm.add_constant(x)\n",
    "est = sm.OLS(science, X2)\n",
    "science_fit = est.fit()\n",
    "print(science_fit.summary2(xname=features))\n",
    "print(\"RSE:\",science_fit.scale**.5)"
   ],
   "metadata": {
    "collapsed": false,
    "pycharm": {
     "name": "#%%\n"
    }
   }
  },
  {
   "cell_type": "markdown",
   "source": [
    "#### Math Regression"
   ],
   "metadata": {
    "collapsed": false,
    "pycharm": {
     "name": "#%% md\n"
    }
   }
  },
  {
   "cell_type": "code",
   "execution_count": 22,
   "outputs": [
    {
     "name": "stdout",
     "output_type": "stream",
     "text": [
      "                          Results: Ordinary least squares\n",
      "====================================================================================\n",
      "Model:                    OLS                    Adj. R-squared:           0.667    \n",
      "Dependent Variable:       Math Proficiency       AIC:                      989.5367 \n",
      "Date:                     2023-04-05 16:24       BIC:                      1064.4896\n",
      "No. Observations:         132                    Log-Likelihood:           -468.77  \n",
      "Df Model:                 25                     F-statistic:              11.48    \n",
      "Df Residuals:             106                    Prob (F-statistic):       3.46e-20 \n",
      "R-squared:                0.730                  Scale:                    88.592   \n",
      "------------------------------------------------------------------------------------\n",
      "                                   Coef.   Std.Err.    t    P>|t|   [0.025   0.975] \n",
      "------------------------------------------------------------------------------------\n",
      "intercept                          60.4502   9.8039  6.1659 0.0000  41.0130  79.8874\n",
      "freeReduced                         0.8047   0.2596  3.0995 0.0025   0.2900   1.3194\n",
      "ASD Population                     -0.2520   0.0524 -4.8093 0.0000  -0.3560  -0.1481\n",
      "Distances                          -0.9310   0.5711 -1.6300 0.1061  -2.0633   0.2014\n",
      "Facility                            0.6453   2.9728  0.2171 0.8286  -5.2485   6.5392\n",
      "Amherst Middle School              32.9636   8.4644  3.8944 0.0002  16.1821  49.7451\n",
      "Boynton Middle School              32.0018   7.5885  4.2171 0.0001  16.9568  47.0467\n",
      "Elm Street Middle School           -7.3662   8.7152 -0.8452 0.3999 -24.6450   9.9126\n",
      "Fairgrounds Middle School          -2.8929   8.8452 -0.3271 0.7443 -20.4294  14.6436\n",
      "Great Brook School                 28.5405  10.2260  2.7910 0.0062   8.2665  48.8146\n",
      "Henry J. McLaughlin Middle School -27.6946   8.2936 -3.3393 0.0012 -44.1375 -11.2517\n",
      "Hillsboro-Deering Middle School    33.1553  11.3551  2.9199 0.0043  10.6427  55.6679\n",
      "Hillside Middle School             -3.4231   7.0677 -0.4843 0.6292 -17.4354  10.5892\n",
      "Hollis Brookline Middle School     26.2876   7.5752  3.4702 0.0008  11.2691  41.3061\n",
      "Hudson Memorial School             -5.0725   7.1081 -0.7136 0.4770 -19.1650   9.0200\n",
      "Litchfield Middle School            2.6824   6.8821  0.3898 0.6975 -10.9621  16.3268\n",
      "Merrimack Middle School           -10.8471   8.1339 -1.3336 0.1852 -26.9734   5.2791\n",
      "Middle School At Parkside         -36.4412  10.6349 -3.4266 0.0009 -57.5260 -15.3565\n",
      "Milford Middle School               6.1318   6.2291  0.9844 0.3272  -6.2179  18.4816\n",
      "Mountain View Middle School        26.6562   6.4316  4.1445 0.0001  13.9049  39.4075\n",
      "Pelham Memorial School             29.0765   6.7870  4.2842 0.0000  15.6207  42.5323\n",
      "Pennichuck Middle School          -22.4443  10.6858 -2.1004 0.0381 -43.6299  -1.2586\n",
      "Ross A. Lurgio Middle School       17.8688   7.7172  2.3154 0.0225   2.5687  33.1689\n",
      "South Meadow School                17.7088  10.1897  1.7379 0.0851  -2.4933  37.9108\n",
      "Southside Middle School            -7.7028   8.8846 -0.8670 0.3879 -25.3174   9.9117\n",
      "Weare Middle School                32.1011   8.5213  3.7672 0.0003  15.2068  48.9954\n",
      "------------------------------------------------------------------------------------\n",
      "Omnibus:                    0.352               Durbin-Watson:                 0.995\n",
      "Prob(Omnibus):              0.839               Jarque-Bera (JB):              0.515\n",
      "Skew:                       -0.049              Prob(JB):                      0.773\n",
      "Kurtosis:                   2.710               Condition No.:                 2233 \n",
      "====================================================================================\n",
      "* The condition number is large (2e+03). This might indicate             strong\n",
      "multicollinearity or other numerical problems.\n",
      "RSE: 9.412310301966269\n"
     ]
    }
   ],
   "source": [
    "X2 = sm.add_constant(x)\n",
    "est = sm.OLS(math, X2)\n",
    "math_fit = est.fit()\n",
    "print(math_fit.summary2(xname=features))\n",
    "print(\"RSE:\",math_fit.scale**.5)"
   ],
   "metadata": {
    "collapsed": false,
    "pycharm": {
     "name": "#%%\n"
    }
   }
  },
  {
   "cell_type": "markdown",
   "source": [
    "### Removing Facility Due to High Correlation"
   ],
   "metadata": {
    "collapsed": false,
    "pycharm": {
     "name": "#%% md\n"
    }
   }
  },
  {
   "cell_type": "code",
   "execution_count": 24,
   "outputs": [],
   "source": [
    "x = data.drop(['Science Proficiency','Math Proficiency','Overall Proficiency', 'Facility'], axis=1)\n",
    "features = list(x.iloc[:, 0:].columns)\n",
    "features.insert(0,'intercept')\n",
    "x = x.values"
   ],
   "metadata": {
    "collapsed": false,
    "pycharm": {
     "name": "#%%\n"
    }
   }
  },
  {
   "cell_type": "markdown",
   "source": [
    "#### Overall Regression (No Facility)"
   ],
   "metadata": {
    "collapsed": false,
    "pycharm": {
     "name": "#%% md\n"
    }
   }
  },
  {
   "cell_type": "code",
   "execution_count": 26,
   "outputs": [
    {
     "name": "stdout",
     "output_type": "stream",
     "text": [
      "                          Results: Ordinary least squares\n",
      "====================================================================================\n",
      "Model:                   OLS                      Adj. R-squared:          0.540    \n",
      "Dependent Variable:      Overall Proficiency      AIC:                     971.9236 \n",
      "Date:                    2023-04-05 16:26         BIC:                     1043.9937\n",
      "No. Observations:        132                      Log-Likelihood:          -460.96  \n",
      "Df Model:                24                       F-statistic:             7.404    \n",
      "Df Residuals:            107                      Prob (F-statistic):      9.51e-14 \n",
      "R-squared:               0.624                    Scale:                   77.973   \n",
      "------------------------------------------------------------------------------------\n",
      "                                   Coef.   Std.Err.    t    P>|t|   [0.025   0.975] \n",
      "------------------------------------------------------------------------------------\n",
      "intercept                          41.6434   9.1326  4.5599 0.0000  23.5391  59.7477\n",
      "freeReduced                         0.6087   0.2400  2.5365 0.0126   0.1330   1.0844\n",
      "ASD Population                     -0.1428   0.0307 -4.6517 0.0000  -0.2037  -0.0820\n",
      "Distances                          -0.2538   0.5338 -0.4756 0.6354  -1.3120   0.8043\n",
      "Amherst Middle School              35.4684   7.9320  4.4715 0.0000  19.7441  51.1927\n",
      "Boynton Middle School               5.3485   7.1192  0.7513 0.4541  -8.7645  19.4616\n",
      "Elm Street Middle School          -10.2851   8.1120 -1.2679 0.2076 -26.3662   5.7960\n",
      "Fairgrounds Middle School          -1.6089   8.2381 -0.1953 0.8455 -17.9400  14.7223\n",
      "Great Brook School                  7.9490   9.5818  0.8296 0.4086 -11.0458  26.9439\n",
      "Henry J. McLaughlin Middle School -20.5259   7.7151 -2.6605 0.0090 -35.8201  -5.2318\n",
      "Hillsboro-Deering Middle School   -10.1096  10.6508 -0.9492 0.3447 -31.2237  11.0044\n",
      "Hillside Middle School            -17.4392   6.5923 -2.6454 0.0094 -30.5076  -4.3708\n",
      "Hollis Brookline Middle School     33.8204   7.0776  4.7785 0.0000  19.7900  47.8508\n",
      "Hudson Memorial School             13.9053   6.6680  2.0854 0.0394   0.6868  27.1237\n",
      "Litchfield Middle School           22.6437   6.4317  3.5207 0.0006   9.8937  35.3937\n",
      "Merrimack Middle School            15.9129   7.6283  2.0860 0.0394   0.7906  31.0352\n",
      "Middle School At Parkside         -29.9141   9.8661 -3.0320 0.0030 -49.4726 -10.3557\n",
      "Milford Middle School              15.5577   5.8437  2.6623 0.0090   3.9733  27.1422\n",
      "Mountain View Middle School        17.6498   6.0100  2.9368 0.0041   5.7358  29.5638\n",
      "Pelham Memorial School             20.2659   6.3340  3.1996 0.0018   7.7095  32.8222\n",
      "Pennichuck Middle School           -6.5786   9.9420 -0.6617 0.5096 -26.2875  13.1302\n",
      "Ross A. Lurgio Middle School       36.1345   7.2193  5.0053 0.0000  21.8232  50.4459\n",
      "South Meadow School                18.7067   9.5271  1.9635 0.0522  -0.1796  37.5930\n",
      "Southside Middle School           -18.1501   8.2561 -2.1984 0.0301 -34.5169  -1.7833\n",
      "Weare Middle School                19.9838   7.9552  2.5120 0.0135   4.2136  35.7541\n",
      "------------------------------------------------------------------------------------\n",
      "Omnibus:                     2.543              Durbin-Watson:                 1.618\n",
      "Prob(Omnibus):               0.280              Jarque-Bera (JB):              2.237\n",
      "Skew:                        0.135              Prob(JB):                      0.327\n",
      "Kurtosis:                    3.578              Condition No.:                 2220 \n",
      "====================================================================================\n",
      "* The condition number is large (2e+03). This might indicate             strong\n",
      "multicollinearity or other numerical problems.\n",
      "RSE: 8.830247055355292\n"
     ]
    }
   ],
   "source": [
    "X2 = sm.add_constant(x)\n",
    "est = sm.OLS(overall, X2)\n",
    "overall_fit = est.fit()\n",
    "print(overall_fit.summary2(xname=features))\n",
    "print(\"RSE:\",overall_fit.scale**.5)"
   ],
   "metadata": {
    "collapsed": false,
    "pycharm": {
     "name": "#%%\n"
    }
   }
  },
  {
   "cell_type": "markdown",
   "source": [
    "#### Science Regression (No Facility)"
   ],
   "metadata": {
    "collapsed": false,
    "pycharm": {
     "name": "#%% md\n"
    }
   }
  },
  {
   "cell_type": "code",
   "execution_count": 27,
   "outputs": [
    {
     "name": "stdout",
     "output_type": "stream",
     "text": [
      "                          Results: Ordinary least squares\n",
      "===================================================================================\n",
      "Model:                   OLS                      Adj. R-squared:          0.676   \n",
      "Dependent Variable:      Science Proficiency      AIC:                     876.2236\n",
      "Date:                    2023-04-05 16:26         BIC:                     948.2936\n",
      "No. Observations:        132                      Log-Likelihood:          -413.11 \n",
      "Df Model:                24                       F-statistic:             12.38   \n",
      "Df Residuals:            107                      Prob (F-statistic):      3.93e-21\n",
      "R-squared:               0.735                    Scale:                   37.764  \n",
      "-----------------------------------------------------------------------------------\n",
      "                                   Coef.   Std.Err.    t    P>|t|   [0.025   0.975]\n",
      "-----------------------------------------------------------------------------------\n",
      "intercept                           2.6267   6.3557  0.4133 0.6802  -9.9727 15.2261\n",
      "freeReduced                         0.6355   0.1670  3.8049 0.0002   0.3044  0.9665\n",
      "ASD Population                     -0.0449   0.0214 -2.1029 0.0378  -0.0873 -0.0026\n",
      "Distances                          -0.0947   0.3715 -0.2550 0.7992  -0.8312  0.6417\n",
      "Amherst Middle School              42.6134   5.5202  7.7196 0.0000  31.6703 53.5565\n",
      "Boynton Middle School              23.9357   4.9545  4.8311 0.0000  14.1139 33.7574\n",
      "Elm Street Middle School           -7.0207   5.6454 -1.2436 0.2164 -18.2121  4.1707\n",
      "Fairgrounds Middle School          10.6216   5.7332  1.8527 0.0667  -0.7438 21.9870\n",
      "Great Brook School                  6.7130   6.6683  1.0067 0.3164  -6.5062 19.9322\n",
      "Henry J. McLaughlin Middle School -17.0626   5.3692 -3.1779 0.0019 -27.7064 -6.4189\n",
      "Hillsboro-Deering Middle School     7.7889   7.4123  1.0508 0.2957  -6.9051 22.4829\n",
      "Hillside Middle School             -1.3932   4.5878 -0.3037 0.7620 -10.4879  7.7016\n",
      "Hollis Brookline Middle School     30.6540   4.9255  6.2235 0.0000  20.8897 40.4182\n",
      "Hudson Memorial School              7.0845   4.6405  1.5267 0.1298  -2.1147 16.2836\n",
      "Litchfield Middle School           13.3651   4.4760  2.9859 0.0035   4.4919 22.2382\n",
      "Merrimack Middle School             9.6407   5.3088  1.8160 0.0722  -0.8835 20.1648\n",
      "Middle School At Parkside         -21.9936   6.8662 -3.2032 0.0018 -35.6050 -8.3822\n",
      "Milford Middle School              12.4148   4.0668  3.0527 0.0029   4.3528 20.4768\n",
      "Mountain View Middle School        18.2982   4.1825  4.3749 0.0000  10.0068 26.5896\n",
      "Pelham Memorial School             26.4745   4.4080  6.0060 0.0000  17.7361 35.2129\n",
      "Pennichuck Middle School           -7.2205   6.9190 -1.0436 0.2990 -20.9365  6.4956\n",
      "Ross A. Lurgio Middle School       25.5608   5.0241  5.0876 0.0000  15.6010 35.5206\n",
      "South Meadow School                 5.3237   6.6302  0.8029 0.4238  -7.8200 18.4673\n",
      "Southside Middle School            -4.7825   5.7457 -0.8324 0.4071 -16.1727  6.6077\n",
      "Weare Middle School                18.0223   5.5363  3.2553 0.0015   7.0472 28.9974\n",
      "-----------------------------------------------------------------------------------\n",
      "Omnibus:                     5.099              Durbin-Watson:                1.598\n",
      "Prob(Omnibus):               0.078              Jarque-Bera (JB):             5.084\n",
      "Skew:                        -0.306             Prob(JB):                     0.079\n",
      "Kurtosis:                    3.741              Condition No.:                2220 \n",
      "===================================================================================\n",
      "* The condition number is large (2e+03). This might indicate             strong\n",
      "multicollinearity or other numerical problems.\n",
      "RSE: 6.145270411876904\n"
     ]
    }
   ],
   "source": [
    "X2 = sm.add_constant(x)\n",
    "est = sm.OLS(science, X2)\n",
    "science_fit = est.fit()\n",
    "print(science_fit.summary2(xname=features))\n",
    "print(\"RSE:\",science_fit.scale**.5)"
   ],
   "metadata": {
    "collapsed": false,
    "pycharm": {
     "name": "#%%\n"
    }
   }
  },
  {
   "cell_type": "markdown",
   "source": [
    "#### Math Regression (No Facility)"
   ],
   "metadata": {
    "collapsed": false,
    "pycharm": {
     "name": "#%% md\n"
    }
   }
  },
  {
   "cell_type": "code",
   "execution_count": 29,
   "outputs": [
    {
     "name": "stdout",
     "output_type": "stream",
     "text": [
      "                          Results: Ordinary least squares\n",
      "====================================================================================\n",
      "Model:                    OLS                    Adj. R-squared:           0.670    \n",
      "Dependent Variable:       Math Proficiency       AIC:                      987.5954 \n",
      "Date:                     2023-04-05 16:26       BIC:                      1059.6655\n",
      "No. Observations:         132                    Log-Likelihood:           -468.80  \n",
      "Df Model:                 24                     F-statistic:              12.07    \n",
      "Df Residuals:             107                    Prob (F-statistic):       1.00e-20 \n",
      "R-squared:                0.730                  Scale:                    87.803   \n",
      "------------------------------------------------------------------------------------\n",
      "                                   Coef.   Std.Err.    t    P>|t|   [0.025   0.975] \n",
      "------------------------------------------------------------------------------------\n",
      "intercept                          60.1976   9.6911  6.2116 0.0000  40.9860  79.4091\n",
      "freeReduced                         0.7950   0.2547  3.1220 0.0023   0.2902   1.2999\n",
      "ASD Population                     -0.2432   0.0326 -7.4628 0.0000  -0.3078  -0.1786\n",
      "Distances                          -0.9202   0.5664 -1.6246 0.1072  -2.0431   0.2027\n",
      "Amherst Middle School              32.8765   8.4171  3.9059 0.0002  16.1904  49.5625\n",
      "Boynton Middle School              31.9994   7.5546  4.2357 0.0000  17.0232  46.9756\n",
      "Elm Street Middle School           -7.1294   8.6081 -0.8282 0.4094 -24.1940   9.9352\n",
      "Fairgrounds Middle School          -2.6623   8.7420 -0.3045 0.7613 -19.9922  14.6677\n",
      "Great Brook School                 28.4305  10.1679  2.7961 0.0061   8.2739  48.5871\n",
      "Henry J. McLaughlin Middle School -27.4612   8.1869 -3.3543 0.0011 -43.6908 -11.2316\n",
      "Hillsboro-Deering Middle School    33.1066  11.3022  2.9292 0.0042  10.7013  55.5120\n",
      "Hillside Middle School             -3.2583   6.9954 -0.4658 0.6423 -17.1260  10.6093\n",
      "Hollis Brookline Middle School     26.1388   7.5104  3.4803 0.0007  11.2503  41.0273\n",
      "Hudson Memorial School             -5.0927   7.0758 -0.7197 0.4733 -19.1196   8.9342\n",
      "Litchfield Middle School            2.5515   6.8250  0.3738 0.7093 -10.9784  16.0813\n",
      "Merrimack Middle School           -10.8927   8.0949 -1.3456 0.1813 -26.9399   5.1544\n",
      "Middle School At Parkside         -36.0977  10.4695 -3.4479 0.0008 -56.8523 -15.3430\n",
      "Milford Middle School               6.1421   6.2011  0.9905 0.3242  -6.1509  18.4350\n",
      "Mountain View Middle School        26.5319   6.3775  4.1602 0.0001  13.8892  39.1746\n",
      "Pelham Memorial School             28.9261   6.7214  4.3036 0.0000  15.6017  42.2504\n",
      "Pennichuck Middle School          -22.1464  10.5501 -2.0992 0.0382 -43.0607  -1.2322\n",
      "Ross A. Lurgio Middle School       17.7423   7.6608  2.3160 0.0225   2.5556  32.9289\n",
      "South Meadow School                17.5265  10.1097  1.7336 0.0859  -2.5149  37.5679\n",
      "Southside Middle School            -7.4379   8.7611 -0.8490 0.3978 -24.8057   9.9299\n",
      "Weare Middle School                31.9183   8.4418  3.7810 0.0003  15.1835  48.6531\n",
      "------------------------------------------------------------------------------------\n",
      "Omnibus:                    0.210               Durbin-Watson:                 0.991\n",
      "Prob(Omnibus):              0.900               Jarque-Bera (JB):              0.381\n",
      "Skew:                       -0.026              Prob(JB):                      0.826\n",
      "Kurtosis:                   2.742               Condition No.:                 2220 \n",
      "====================================================================================\n",
      "* The condition number is large (2e+03). This might indicate             strong\n",
      "multicollinearity or other numerical problems.\n",
      "RSE: 9.370306426216983\n"
     ]
    }
   ],
   "source": [
    "X2 = sm.add_constant(x)\n",
    "est = sm.OLS(math, X2)\n",
    "math_fit = est.fit()\n",
    "print(math_fit.summary2(xname=features))\n",
    "print(\"RSE:\",math_fit.scale**.5)"
   ],
   "metadata": {
    "collapsed": false,
    "pycharm": {
     "name": "#%%\n"
    }
   }
  },
  {
   "cell_type": "code",
   "execution_count": null,
   "outputs": [],
   "source": [],
   "metadata": {
    "collapsed": false,
    "pycharm": {
     "name": "#%%\n"
    }
   }
  }
 ],
 "metadata": {
  "kernelspec": {
   "display_name": "Python 3",
   "language": "python",
   "name": "python3"
  },
  "language_info": {
   "codemirror_mode": {
    "name": "ipython",
    "version": 2
   },
   "file_extension": ".py",
   "mimetype": "text/x-python",
   "name": "python",
   "nbconvert_exporter": "python",
   "pygments_lexer": "ipython2",
   "version": "2.7.6"
  }
 },
 "nbformat": 4,
 "nbformat_minor": 0
}